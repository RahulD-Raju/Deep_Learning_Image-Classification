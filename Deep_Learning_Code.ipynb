{
 "cells": [
  {
   "cell_type": "code",
   "execution_count": 4,
   "id": "89b9e887",
   "metadata": {},
   "outputs": [],
   "source": [
    "import tensorflow as tf\n",
    "from tensorflow.keras import datasets, layers, models\n",
    "from tensorflow import keras as keras\n",
    "from tensorflow.keras.layers import Dense, Flatten, Dropout, ZeroPadding2D\n",
    "from tensorflow.keras.preprocessing import image\n",
    "from tensorflow.keras.models import Sequential\n",
    "\n",
    "import numpy as np\n",
    "import matplotlib.pyplot as plt"
   ]
  },
  {
   "cell_type": "code",
   "execution_count": 6,
   "id": "fb2f4203",
   "metadata": {},
   "outputs": [],
   "source": [
    "from tensorflow.keras.layers import Dense, Conv2D, MaxPooling2D, Flatten, GlobalAveragePooling2D, InputLayer"
   ]
  },
  {
   "cell_type": "code",
   "execution_count": 7,
   "id": "8b93d218",
   "metadata": {},
   "outputs": [],
   "source": [
    "from sklearn.metrics import confusion_matrix, classification_report\n",
    "import seaborn as sns"
   ]
  },
  {
   "cell_type": "code",
   "execution_count": 9,
   "id": "5c71e102",
   "metadata": {},
   "outputs": [],
   "source": [
    "(X_train, y_train), (X_test, y_test) = datasets.cifar10.load_data()"
   ]
  },
  {
   "cell_type": "code",
   "execution_count": 10,
   "id": "c99cefaf",
   "metadata": {},
   "outputs": [
    {
     "data": {
      "text/plain": [
       "(50000, 32, 32, 3)"
      ]
     },
     "execution_count": 10,
     "metadata": {},
     "output_type": "execute_result"
    }
   ],
   "source": [
    "X_train.shape"
   ]
  },
  {
   "cell_type": "code",
   "execution_count": 11,
   "id": "479a5c3d",
   "metadata": {},
   "outputs": [
    {
     "data": {
      "text/plain": [
       "(50000, 1)"
      ]
     },
     "execution_count": 11,
     "metadata": {},
     "output_type": "execute_result"
    }
   ],
   "source": [
    "y_train.shape"
   ]
  },
  {
   "cell_type": "code",
   "execution_count": 389,
   "id": "6518030d",
   "metadata": {},
   "outputs": [
    {
     "data": {
      "image/png": "[encoded data removed]",
      "text/plain": [
       "<Figure size 432x288 with 1 Axes>"
      ]
     },
     "metadata": {
      "needs_background": "light"
     },
     "output_type": "display_data"
    }
   ],
   "source": [
    "img = plt.imshow(X_train[1000])"
   ]
  },
  {
   "cell_type": "code",
   "execution_count": 277,
   "id": "4bc0a9c2",
   "metadata": {},
   "outputs": [],
   "source": [
    "# Normalize training and test set\n",
    "\n",
    "X_train = X_train/255\n",
    "X_test = X_test/255"
   ]
  },
  {
   "cell_type": "code",
   "execution_count": 247,
   "id": "290ee048",
   "metadata": {},
   "outputs": [],
   "source": [
    "# Convert to one-hot encoding for easier processing\n",
    "\n",
    "from tensorflow.keras.utils import to_categorical\n",
    "\n",
    "y_train_one_hot = to_categorical(y_train)\n",
    "y_test_one_hot = to_categorical(y_test)"
   ]
  },
  {
   "cell_type": "markdown",
   "id": "030fbc65",
   "metadata": {},
   "source": [
    "### Model  1 - CNN from the ground-up  - Accuracy:  0.639"
   ]
  },
  {
   "cell_type": "code",
   "execution_count": 259,
   "id": "3202558a",
   "metadata": {},
   "outputs": [],
   "source": [
    "model_1 = models.Sequential([\n",
    "    # Convolutional base layer\n",
    "    InputLayer(input_shape=X_train.shape[1:]),\n",
    "    Conv2D(filters =45, kernel_size = (3,3), activation='relu', input_shape=(32,32,3)),\n",
    "    MaxPooling2D((2,2)),\n",
    "    Conv2D(filters =70, kernel_size = (3,3), activation='relu'),\n",
    "    MaxPooling2D((2,2)),\n",
    "    \n",
    "    # Dense layers \n",
    "    Flatten(),\n",
    "    Dense(750, activation='relu'),\n",
    "    Dropout(0.3),\n",
    "    Dense(500, activation='relu'), \n",
    "    Dropout(0.20),\n",
    "    Dense(10, activation='softmax')\n",
    "])"
   ]
  },
  {
   "cell_type": "code",
   "execution_count": 260,
   "id": "bbbe954b",
   "metadata": {},
   "outputs": [
    {
     "name": "stdout",
     "output_type": "stream",
     "text": [
      "Model: \"sequential_26\"\n",
      "_________________________________________________________________\n",
      "Layer (type)                 Output Shape              Param #   \n",
      "=================================================================\n",
      "conv2d_8 (Conv2D)            (None, 30, 30, 45)        1260      \n",
      "_________________________________________________________________\n",
      "max_pooling2d_8 (MaxPooling2 (None, 15, 15, 45)        0         \n",
      "_________________________________________________________________\n",
      "conv2d_9 (Conv2D)            (None, 13, 13, 70)        28420     \n",
      "_________________________________________________________________\n",
      "max_pooling2d_9 (MaxPooling2 (None, 6, 6, 70)          0         \n",
      "_________________________________________________________________\n",
      "flatten_51 (Flatten)         (None, 2520)              0         \n",
      "_________________________________________________________________\n",
      "dense_188 (Dense)            (None, 750)               1890750   \n",
      "_________________________________________________________________\n",
      "dropout_92 (Dropout)         (None, 750)               0         \n",
      "_________________________________________________________________\n",
      "dense_189 (Dense)            (None, 500)               375500    \n",
      "_________________________________________________________________\n",
      "dropout_93 (Dropout)         (None, 500)               0         \n",
      "_________________________________________________________________\n",
      "dense_190 (Dense)            (None, 10)                5010      \n",
      "=================================================================\n",
      "Total params: 2,300,940\n",
      "Trainable params: 2,300,940\n",
      "Non-trainable params: 0\n",
      "_________________________________________________________________\n"
     ]
    }
   ],
   "source": [
    "model_1.summary()"
   ]
  },
  {
   "cell_type": "code",
   "execution_count": 261,
   "id": "87ede1ac",
   "metadata": {},
   "outputs": [],
   "source": [
    "model_1.compile(optimizer='adam', loss='sparse_categorical_crossentropy', metrics=['accuracy'])"
   ]
  },
  {
   "cell_type": "code",
   "execution_count": 262,
   "id": "1df45c10",
   "metadata": {
    "scrolled": true
   },
   "outputs": [
    {
     "name": "stdout",
     "output_type": "stream",
     "text": [
      "Epoch 1/25\n",
      "1563/1563 [==============================] - 47s 30ms/step - loss: 2.1632 - accuracy: 0.2699\n",
      "Epoch 2/25\n",
      "1563/1563 [==============================] - 48s 31ms/step - loss: 1.5075 - accuracy: 0.4610\n",
      "Epoch 3/25\n",
      "1563/1563 [==============================] - 47s 30ms/step - loss: 1.2857 - accuracy: 0.5501\n",
      "Epoch 4/25\n",
      "1563/1563 [==============================] - 48s 31ms/step - loss: 1.1553 - accuracy: 0.5987\n",
      "Epoch 5/25\n",
      "1563/1563 [==============================] - 48s 31ms/step - loss: 1.0552 - accuracy: 0.6340\n",
      "Epoch 6/25\n",
      "1563/1563 [==============================] - 48s 31ms/step - loss: 0.9651 - accuracy: 0.6685\n",
      "Epoch 7/25\n",
      "1563/1563 [==============================] - 48s 31ms/step - loss: 0.8905 - accuracy: 0.6939\n",
      "Epoch 8/25\n",
      "1563/1563 [==============================] - 48s 31ms/step - loss: 0.8070 - accuracy: 0.7245\n",
      "Epoch 9/25\n",
      "1563/1563 [==============================] - 48s 31ms/step - loss: 0.7381 - accuracy: 0.7498\n",
      "Epoch 10/25\n",
      "1563/1563 [==============================] - 48s 31ms/step - loss: 0.6812 - accuracy: 0.7702\n",
      "Epoch 11/25\n",
      "1563/1563 [==============================] - 48s 31ms/step - loss: 0.6329 - accuracy: 0.7864\n",
      "Epoch 12/25\n",
      "1563/1563 [==============================] - 48s 31ms/step - loss: 0.5822 - accuracy: 0.8077\n",
      "Epoch 13/25\n",
      "1563/1563 [==============================] - 48s 31ms/step - loss: 0.5645 - accuracy: 0.8137\n",
      "Epoch 14/25\n",
      "1563/1563 [==============================] - 48s 31ms/step - loss: 0.5091 - accuracy: 0.8363\n",
      "Epoch 15/25\n",
      "1563/1563 [==============================] - 49s 31ms/step - loss: 0.5010 - accuracy: 0.8382\n",
      "Epoch 16/25\n",
      "1563/1563 [==============================] - 49s 32ms/step - loss: 0.4853 - accuracy: 0.8476\n",
      "Epoch 17/25\n",
      "1563/1563 [==============================] - 50s 32ms/step - loss: 0.4488 - accuracy: 0.8598\n",
      "Epoch 18/25\n",
      "1563/1563 [==============================] - 48s 31ms/step - loss: 0.4217 - accuracy: 0.8710\n",
      "Epoch 19/25\n",
      "1563/1563 [==============================] - 50s 32ms/step - loss: 0.4349 - accuracy: 0.8678\n",
      "Epoch 20/25\n",
      "1563/1563 [==============================] - 49s 31ms/step - loss: 0.3900 - accuracy: 0.8817\n",
      "Epoch 21/25\n",
      "1563/1563 [==============================] - 49s 31ms/step - loss: 0.3886 - accuracy: 0.8851\n",
      "Epoch 22/25\n",
      "1563/1563 [==============================] - 48s 31ms/step - loss: 0.3862 - accuracy: 0.8861\n",
      "Epoch 23/25\n",
      "1563/1563 [==============================] - 49s 31ms/step - loss: 0.3666 - accuracy: 0.8938\n",
      "Epoch 24/25\n",
      "1563/1563 [==============================] - 49s 31ms/step - loss: 0.3547 - accuracy: 0.8967\n",
      "Epoch 25/25\n",
      "1563/1563 [==============================] - 49s 32ms/step - loss: 0.3603 - accuracy: 0.8984\n"
     ]
    }
   ],
   "source": [
    "history_1 = model_1.fit(X_train, y_train, epochs=25)"
   ]
  },
  {
   "cell_type": "code",
   "execution_count": 263,
   "id": "b4d557cb",
   "metadata": {},
   "outputs": [
    {
     "name": "stdout",
     "output_type": "stream",
     "text": [
      "313/313 [==============================] - 2s 8ms/step - loss: 1.4550 - accuracy: 0.6398\n"
     ]
    },
    {
     "data": {
      "text/plain": [
       "[1.455003023147583, 0.6398000121116638]"
      ]
     },
     "execution_count": 263,
     "metadata": {},
     "output_type": "execute_result"
    }
   ],
   "source": [
    "model_1.evaluate(X_test, y_test)"
   ]
  },
  {
   "cell_type": "markdown",
   "id": "4647fe29",
   "metadata": {},
   "source": [
    "### Model 2  Transfer Learning with MobileNet(Froze Base) - Accuracy:  0.224"
   ]
  },
  {
   "cell_type": "code",
   "execution_count": 336,
   "id": "b668aa74",
   "metadata": {},
   "outputs": [],
   "source": [
    "from keras.applications import mobilenet_v2\n",
    "from keras.applications import MobileNet"
   ]
  },
  {
   "cell_type": "code",
   "execution_count": 252,
   "id": "137722cd",
   "metadata": {},
   "outputs": [
    {
     "name": "stdout",
     "output_type": "stream",
     "text": [
      "WARNING:tensorflow:`input_shape` is undefined or non-square, or `rows` is not in [96, 128, 160, 192, 224]. Weights for input shape (224, 224) will be loaded as the default.\n"
     ]
    }
   ],
   "source": [
    "from tensorflow.keras.models import Model\n",
    "\n",
    "base_model = mobilenet_v2.MobileNetV2(weights='imagenet', include_top=False, input_shape=(32,32,3), classes=y_train.shape[1])    \n",
    "    \n",
    "\n",
    "for layer in base_model.layers:\n",
    "    layer.trainable = False    \n",
    "\n",
    "\n",
    "# Establish new fully connected block\n",
    "x = base_model.output\n",
    "x = Dropout(0.5)(x)\n",
    "x = Flatten()(x) # flatten from convolution tensor output \n",
    "x = Dense(500, activation='relu')(x) # number of layers and units are hyperparameters, as usual\n",
    "x = Dropout(.30)(x)\n",
    "x = Dense(250, activation='relu')(x)\n",
    "x = Dropout(.20)(x)\n",
    "x = Dense(125, activation='relu')(x)\n",
    "x = Dropout(.10)(x)\n",
    "predictions = Dense(10, activation='softmax')(x) # should match # of classes predicted\n",
    "\n",
    "# define formal model object to train and compile it as usual\n",
    "model = Model(inputs=base_model.input, outputs=predictions)\n",
    "model.compile(optimizer='adam', loss='categorical_crossentropy', metrics=['accuracy'])"
   ]
  },
  {
   "cell_type": "code",
   "execution_count": 351,
   "id": "0b286f33",
   "metadata": {},
   "outputs": [
    {
     "name": "stdout",
     "output_type": "stream",
     "text": [
      "Model: \"model_17\"\n",
      "__________________________________________________________________________________________________\n",
      "Layer (type)                    Output Shape         Param #     Connected to                     \n",
      "==================================================================================================\n",
      "input_65 (InputLayer)           [(None, 32, 32, 3)]  0                                            \n",
      "__________________________________________________________________________________________________\n",
      "Conv1 (Conv2D)                  (None, 16, 16, 32)   864         input_65[0][0]                   \n",
      "__________________________________________________________________________________________________\n",
      "bn_Conv1 (BatchNormalization)   (None, 16, 16, 32)   128         Conv1[0][0]                      \n",
      "__________________________________________________________________________________________________\n",
      "Conv1_relu (ReLU)               (None, 16, 16, 32)   0           bn_Conv1[0][0]                   \n",
      "__________________________________________________________________________________________________\n",
      "expanded_conv_depthwise (Depthw (None, 16, 16, 32)   288         Conv1_relu[0][0]                 \n",
      "__________________________________________________________________________________________________\n",
      "expanded_conv_depthwise_BN (Bat (None, 16, 16, 32)   128         expanded_conv_depthwise[0][0]    \n",
      "__________________________________________________________________________________________________\n",
      "expanded_conv_depthwise_relu (R (None, 16, 16, 32)   0           expanded_conv_depthwise_BN[0][0] \n",
      "__________________________________________________________________________________________________\n",
      "expanded_conv_project (Conv2D)  (None, 16, 16, 16)   512         expanded_conv_depthwise_relu[0][0\n",
      "__________________________________________________________________________________________________\n",
      "expanded_conv_project_BN (Batch (None, 16, 16, 16)   64          expanded_conv_project[0][0]      \n",
      "__________________________________________________________________________________________________\n",
      "block_1_expand (Conv2D)         (None, 16, 16, 96)   1536        expanded_conv_project_BN[0][0]   \n",
      "__________________________________________________________________________________________________\n",
      "block_1_expand_BN (BatchNormali (None, 16, 16, 96)   384         block_1_expand[0][0]             \n",
      "__________________________________________________________________________________________________\n",
      "block_1_expand_relu (ReLU)      (None, 16, 16, 96)   0           block_1_expand_BN[0][0]          \n",
      "__________________________________________________________________________________________________\n",
      "block_1_pad (ZeroPadding2D)     (None, 17, 17, 96)   0           block_1_expand_relu[0][0]        \n",
      "__________________________________________________________________________________________________\n",
      "block_1_depthwise (DepthwiseCon (None, 8, 8, 96)     864         block_1_pad[0][0]                \n",
      "__________________________________________________________________________________________________\n",
      "block_1_depthwise_BN (BatchNorm (None, 8, 8, 96)     384         block_1_depthwise[0][0]          \n",
      "__________________________________________________________________________________________________\n",
      "block_1_depthwise_relu (ReLU)   (None, 8, 8, 96)     0           block_1_depthwise_BN[0][0]       \n",
      "__________________________________________________________________________________________________\n",
      "block_1_project (Conv2D)        (None, 8, 8, 24)     2304        block_1_depthwise_relu[0][0]     \n",
      "__________________________________________________________________________________________________\n",
      "block_1_project_BN (BatchNormal (None, 8, 8, 24)     96          block_1_project[0][0]            \n",
      "__________________________________________________________________________________________________\n",
      "block_2_expand (Conv2D)         (None, 8, 8, 144)    3456        block_1_project_BN[0][0]         \n",
      "__________________________________________________________________________________________________\n",
      "block_2_expand_BN (BatchNormali (None, 8, 8, 144)    576         block_2_expand[0][0]             \n",
      "__________________________________________________________________________________________________\n",
      "block_2_expand_relu (ReLU)      (None, 8, 8, 144)    0           block_2_expand_BN[0][0]          \n",
      "__________________________________________________________________________________________________\n",
      "block_2_depthwise (DepthwiseCon (None, 8, 8, 144)    1296        block_2_expand_relu[0][0]        \n",
      "__________________________________________________________________________________________________\n",
      "block_2_depthwise_BN (BatchNorm (None, 8, 8, 144)    576         block_2_depthwise[0][0]          \n",
      "__________________________________________________________________________________________________\n",
      "block_2_depthwise_relu (ReLU)   (None, 8, 8, 144)    0           block_2_depthwise_BN[0][0]       \n",
      "__________________________________________________________________________________________________\n",
      "block_2_project (Conv2D)        (None, 8, 8, 24)     3456        block_2_depthwise_relu[0][0]     \n",
      "__________________________________________________________________________________________________\n",
      "block_2_project_BN (BatchNormal (None, 8, 8, 24)     96          block_2_project[0][0]            \n",
      "__________________________________________________________________________________________________\n",
      "block_2_add (Add)               (None, 8, 8, 24)     0           block_1_project_BN[0][0]         \n",
      "                                                                 block_2_project_BN[0][0]         \n",
      "__________________________________________________________________________________________________\n",
      "block_3_expand (Conv2D)         (None, 8, 8, 144)    3456        block_2_add[0][0]                \n",
      "__________________________________________________________________________________________________\n",
      "block_3_expand_BN (BatchNormali (None, 8, 8, 144)    576         block_3_expand[0][0]             \n",
      "__________________________________________________________________________________________________\n",
      "block_3_expand_relu (ReLU)      (None, 8, 8, 144)    0           block_3_expand_BN[0][0]          \n",
      "__________________________________________________________________________________________________\n",
      "block_3_pad (ZeroPadding2D)     (None, 9, 9, 144)    0           block_3_expand_relu[0][0]        \n",
      "__________________________________________________________________________________________________\n",
      "block_3_depthwise (DepthwiseCon (None, 4, 4, 144)    1296        block_3_pad[0][0]                \n",
      "__________________________________________________________________________________________________\n",
      "block_3_depthwise_BN (BatchNorm (None, 4, 4, 144)    576         block_3_depthwise[0][0]          \n",
      "__________________________________________________________________________________________________\n",
      "block_3_depthwise_relu (ReLU)   (None, 4, 4, 144)    0           block_3_depthwise_BN[0][0]       \n",
      "__________________________________________________________________________________________________\n",
      "block_3_project (Conv2D)        (None, 4, 4, 32)     4608        block_3_depthwise_relu[0][0]     \n",
      "__________________________________________________________________________________________________\n",
      "block_3_project_BN (BatchNormal (None, 4, 4, 32)     128         block_3_project[0][0]            \n",
      "__________________________________________________________________________________________________\n",
      "block_4_expand (Conv2D)         (None, 4, 4, 192)    6144        block_3_project_BN[0][0]         \n",
      "__________________________________________________________________________________________________\n",
      "block_4_expand_BN (BatchNormali (None, 4, 4, 192)    768         block_4_expand[0][0]             \n",
      "__________________________________________________________________________________________________\n",
      "block_4_expand_relu (ReLU)      (None, 4, 4, 192)    0           block_4_expand_BN[0][0]          \n",
      "__________________________________________________________________________________________________\n",
      "block_4_depthwise (DepthwiseCon (None, 4, 4, 192)    1728        block_4_expand_relu[0][0]        \n",
      "__________________________________________________________________________________________________\n",
      "block_4_depthwise_BN (BatchNorm (None, 4, 4, 192)    768         block_4_depthwise[0][0]          \n",
      "__________________________________________________________________________________________________\n",
      "block_4_depthwise_relu (ReLU)   (None, 4, 4, 192)    0           block_4_depthwise_BN[0][0]       \n",
      "__________________________________________________________________________________________________\n",
      "block_4_project (Conv2D)        (None, 4, 4, 32)     6144        block_4_depthwise_relu[0][0]     \n",
      "__________________________________________________________________________________________________\n",
      "block_4_project_BN (BatchNormal (None, 4, 4, 32)     128         block_4_project[0][0]            \n",
      "__________________________________________________________________________________________________\n",
      "block_4_add (Add)               (None, 4, 4, 32)     0           block_3_project_BN[0][0]         \n",
      "                                                                 block_4_project_BN[0][0]         \n",
      "__________________________________________________________________________________________________\n",
      "block_5_expand (Conv2D)         (None, 4, 4, 192)    6144        block_4_add[0][0]                \n",
      "__________________________________________________________________________________________________\n",
      "block_5_expand_BN (BatchNormali (None, 4, 4, 192)    768         block_5_expand[0][0]             \n",
      "__________________________________________________________________________________________________\n",
      "block_5_expand_relu (ReLU)      (None, 4, 4, 192)    0           block_5_expand_BN[0][0]          \n",
      "__________________________________________________________________________________________________\n",
      "block_5_depthwise (DepthwiseCon (None, 4, 4, 192)    1728        block_5_expand_relu[0][0]        \n",
      "__________________________________________________________________________________________________\n",
      "block_5_depthwise_BN (BatchNorm (None, 4, 4, 192)    768         block_5_depthwise[0][0]          \n",
      "__________________________________________________________________________________________________\n",
      "block_5_depthwise_relu (ReLU)   (None, 4, 4, 192)    0           block_5_depthwise_BN[0][0]       \n",
      "__________________________________________________________________________________________________\n",
      "block_5_project (Conv2D)        (None, 4, 4, 32)     6144        block_5_depthwise_relu[0][0]     \n",
      "__________________________________________________________________________________________________\n",
      "block_5_project_BN (BatchNormal (None, 4, 4, 32)     128         block_5_project[0][0]            \n",
      "__________________________________________________________________________________________________\n",
      "block_5_add (Add)               (None, 4, 4, 32)     0           block_4_add[0][0]                \n",
      "                                                                 block_5_project_BN[0][0]         \n",
      "__________________________________________________________________________________________________\n",
      "block_6_expand (Conv2D)         (None, 4, 4, 192)    6144        block_5_add[0][0]                \n",
      "__________________________________________________________________________________________________\n",
      "block_6_expand_BN (BatchNormali (None, 4, 4, 192)    768         block_6_expand[0][0]             \n",
      "__________________________________________________________________________________________________\n",
      "block_6_expand_relu (ReLU)      (None, 4, 4, 192)    0           block_6_expand_BN[0][0]          \n",
      "__________________________________________________________________________________________________\n",
      "block_6_pad (ZeroPadding2D)     (None, 5, 5, 192)    0           block_6_expand_relu[0][0]        \n",
      "__________________________________________________________________________________________________\n",
      "block_6_depthwise (DepthwiseCon (None, 2, 2, 192)    1728        block_6_pad[0][0]                \n",
      "__________________________________________________________________________________________________\n",
      "block_6_depthwise_BN (BatchNorm (None, 2, 2, 192)    768         block_6_depthwise[0][0]          \n",
      "__________________________________________________________________________________________________\n",
      "block_6_depthwise_relu (ReLU)   (None, 2, 2, 192)    0           block_6_depthwise_BN[0][0]       \n",
      "__________________________________________________________________________________________________\n",
      "block_6_project (Conv2D)        (None, 2, 2, 64)     12288       block_6_depthwise_relu[0][0]     \n",
      "__________________________________________________________________________________________________\n",
      "block_6_project_BN (BatchNormal (None, 2, 2, 64)     256         block_6_project[0][0]            \n",
      "__________________________________________________________________________________________________\n",
      "block_7_expand (Conv2D)         (None, 2, 2, 384)    24576       block_6_project_BN[0][0]         \n",
      "__________________________________________________________________________________________________\n",
      "block_7_expand_BN (BatchNormali (None, 2, 2, 384)    1536        block_7_expand[0][0]             \n",
      "__________________________________________________________________________________________________\n",
      "block_7_expand_relu (ReLU)      (None, 2, 2, 384)    0           block_7_expand_BN[0][0]          \n",
      "__________________________________________________________________________________________________\n",
      "block_7_depthwise (DepthwiseCon (None, 2, 2, 384)    3456        block_7_expand_relu[0][0]        \n",
      "__________________________________________________________________________________________________\n",
      "block_7_depthwise_BN (BatchNorm (None, 2, 2, 384)    1536        block_7_depthwise[0][0]          \n",
      "__________________________________________________________________________________________________\n",
      "block_7_depthwise_relu (ReLU)   (None, 2, 2, 384)    0           block_7_depthwise_BN[0][0]       \n",
      "__________________________________________________________________________________________________\n",
      "block_7_project (Conv2D)        (None, 2, 2, 64)     24576       block_7_depthwise_relu[0][0]     \n",
      "__________________________________________________________________________________________________\n",
      "block_7_project_BN (BatchNormal (None, 2, 2, 64)     256         block_7_project[0][0]            \n",
      "__________________________________________________________________________________________________\n",
      "block_7_add (Add)               (None, 2, 2, 64)     0           block_6_project_BN[0][0]         \n",
      "                                                                 block_7_project_BN[0][0]         \n",
      "__________________________________________________________________________________________________\n",
      "block_8_expand (Conv2D)         (None, 2, 2, 384)    24576       block_7_add[0][0]                \n",
      "__________________________________________________________________________________________________\n",
      "block_8_expand_BN (BatchNormali (None, 2, 2, 384)    1536        block_8_expand[0][0]             \n",
      "__________________________________________________________________________________________________\n",
      "block_8_expand_relu (ReLU)      (None, 2, 2, 384)    0           block_8_expand_BN[0][0]          \n",
      "__________________________________________________________________________________________________\n",
      "block_8_depthwise (DepthwiseCon (None, 2, 2, 384)    3456        block_8_expand_relu[0][0]        \n",
      "__________________________________________________________________________________________________\n",
      "block_8_depthwise_BN (BatchNorm (None, 2, 2, 384)    1536        block_8_depthwise[0][0]          \n",
      "__________________________________________________________________________________________________\n",
      "block_8_depthwise_relu (ReLU)   (None, 2, 2, 384)    0           block_8_depthwise_BN[0][0]       \n",
      "__________________________________________________________________________________________________\n",
      "block_8_project (Conv2D)        (None, 2, 2, 64)     24576       block_8_depthwise_relu[0][0]     \n",
      "__________________________________________________________________________________________________\n",
      "block_8_project_BN (BatchNormal (None, 2, 2, 64)     256         block_8_project[0][0]            \n",
      "__________________________________________________________________________________________________\n",
      "block_8_add (Add)               (None, 2, 2, 64)     0           block_7_add[0][0]                \n",
      "                                                                 block_8_project_BN[0][0]         \n",
      "__________________________________________________________________________________________________\n",
      "block_9_expand (Conv2D)         (None, 2, 2, 384)    24576       block_8_add[0][0]                \n",
      "__________________________________________________________________________________________________\n",
      "block_9_expand_BN (BatchNormali (None, 2, 2, 384)    1536        block_9_expand[0][0]             \n",
      "__________________________________________________________________________________________________\n",
      "block_9_expand_relu (ReLU)      (None, 2, 2, 384)    0           block_9_expand_BN[0][0]          \n",
      "__________________________________________________________________________________________________\n",
      "block_9_depthwise (DepthwiseCon (None, 2, 2, 384)    3456        block_9_expand_relu[0][0]        \n",
      "__________________________________________________________________________________________________\n",
      "block_9_depthwise_BN (BatchNorm (None, 2, 2, 384)    1536        block_9_depthwise[0][0]          \n",
      "__________________________________________________________________________________________________\n",
      "block_9_depthwise_relu (ReLU)   (None, 2, 2, 384)    0           block_9_depthwise_BN[0][0]       \n",
      "__________________________________________________________________________________________________\n",
      "block_9_project (Conv2D)        (None, 2, 2, 64)     24576       block_9_depthwise_relu[0][0]     \n",
      "__________________________________________________________________________________________________\n",
      "block_9_project_BN (BatchNormal (None, 2, 2, 64)     256         block_9_project[0][0]            \n",
      "__________________________________________________________________________________________________\n",
      "block_9_add (Add)               (None, 2, 2, 64)     0           block_8_add[0][0]                \n",
      "                                                                 block_9_project_BN[0][0]         \n",
      "__________________________________________________________________________________________________\n",
      "block_10_expand (Conv2D)        (None, 2, 2, 384)    24576       block_9_add[0][0]                \n",
      "__________________________________________________________________________________________________\n",
      "block_10_expand_BN (BatchNormal (None, 2, 2, 384)    1536        block_10_expand[0][0]            \n",
      "__________________________________________________________________________________________________\n",
      "block_10_expand_relu (ReLU)     (None, 2, 2, 384)    0           block_10_expand_BN[0][0]         \n",
      "__________________________________________________________________________________________________\n",
      "block_10_depthwise (DepthwiseCo (None, 2, 2, 384)    3456        block_10_expand_relu[0][0]       \n",
      "__________________________________________________________________________________________________\n",
      "block_10_depthwise_BN (BatchNor (None, 2, 2, 384)    1536        block_10_depthwise[0][0]         \n",
      "__________________________________________________________________________________________________\n",
      "block_10_depthwise_relu (ReLU)  (None, 2, 2, 384)    0           block_10_depthwise_BN[0][0]      \n",
      "__________________________________________________________________________________________________\n",
      "block_10_project (Conv2D)       (None, 2, 2, 96)     36864       block_10_depthwise_relu[0][0]    \n",
      "__________________________________________________________________________________________________\n",
      "block_10_project_BN (BatchNorma (None, 2, 2, 96)     384         block_10_project[0][0]           \n",
      "__________________________________________________________________________________________________\n",
      "block_11_expand (Conv2D)        (None, 2, 2, 576)    55296       block_10_project_BN[0][0]        \n",
      "__________________________________________________________________________________________________\n",
      "block_11_expand_BN (BatchNormal (None, 2, 2, 576)    2304        block_11_expand[0][0]            \n",
      "__________________________________________________________________________________________________\n",
      "block_11_expand_relu (ReLU)     (None, 2, 2, 576)    0           block_11_expand_BN[0][0]         \n",
      "__________________________________________________________________________________________________\n",
      "block_11_depthwise (DepthwiseCo (None, 2, 2, 576)    5184        block_11_expand_relu[0][0]       \n",
      "__________________________________________________________________________________________________\n",
      "block_11_depthwise_BN (BatchNor (None, 2, 2, 576)    2304        block_11_depthwise[0][0]         \n",
      "__________________________________________________________________________________________________\n",
      "block_11_depthwise_relu (ReLU)  (None, 2, 2, 576)    0           block_11_depthwise_BN[0][0]      \n",
      "__________________________________________________________________________________________________\n",
      "block_11_project (Conv2D)       (None, 2, 2, 96)     55296       block_11_depthwise_relu[0][0]    \n",
      "__________________________________________________________________________________________________\n",
      "block_11_project_BN (BatchNorma (None, 2, 2, 96)     384         block_11_project[0][0]           \n",
      "__________________________________________________________________________________________________\n",
      "block_11_add (Add)              (None, 2, 2, 96)     0           block_10_project_BN[0][0]        \n",
      "                                                                 block_11_project_BN[0][0]        \n",
      "__________________________________________________________________________________________________\n",
      "block_12_expand (Conv2D)        (None, 2, 2, 576)    55296       block_11_add[0][0]               \n",
      "__________________________________________________________________________________________________\n",
      "block_12_expand_BN (BatchNormal (None, 2, 2, 576)    2304        block_12_expand[0][0]            \n",
      "__________________________________________________________________________________________________\n",
      "block_12_expand_relu (ReLU)     (None, 2, 2, 576)    0           block_12_expand_BN[0][0]         \n",
      "__________________________________________________________________________________________________\n",
      "block_12_depthwise (DepthwiseCo (None, 2, 2, 576)    5184        block_12_expand_relu[0][0]       \n",
      "__________________________________________________________________________________________________\n",
      "block_12_depthwise_BN (BatchNor (None, 2, 2, 576)    2304        block_12_depthwise[0][0]         \n",
      "__________________________________________________________________________________________________\n",
      "block_12_depthwise_relu (ReLU)  (None, 2, 2, 576)    0           block_12_depthwise_BN[0][0]      \n",
      "__________________________________________________________________________________________________\n",
      "block_12_project (Conv2D)       (None, 2, 2, 96)     55296       block_12_depthwise_relu[0][0]    \n",
      "__________________________________________________________________________________________________\n",
      "block_12_project_BN (BatchNorma (None, 2, 2, 96)     384         block_12_project[0][0]           \n",
      "__________________________________________________________________________________________________\n",
      "block_12_add (Add)              (None, 2, 2, 96)     0           block_11_add[0][0]               \n",
      "                                                                 block_12_project_BN[0][0]        \n",
      "__________________________________________________________________________________________________\n",
      "block_13_expand (Conv2D)        (None, 2, 2, 576)    55296       block_12_add[0][0]               \n",
      "__________________________________________________________________________________________________\n",
      "block_13_expand_BN (BatchNormal (None, 2, 2, 576)    2304        block_13_expand[0][0]            \n",
      "__________________________________________________________________________________________________\n",
      "block_13_expand_relu (ReLU)     (None, 2, 2, 576)    0           block_13_expand_BN[0][0]         \n",
      "__________________________________________________________________________________________________\n",
      "block_13_pad (ZeroPadding2D)    (None, 3, 3, 576)    0           block_13_expand_relu[0][0]       \n",
      "__________________________________________________________________________________________________\n",
      "block_13_depthwise (DepthwiseCo (None, 1, 1, 576)    5184        block_13_pad[0][0]               \n",
      "__________________________________________________________________________________________________\n",
      "block_13_depthwise_BN (BatchNor (None, 1, 1, 576)    2304        block_13_depthwise[0][0]         \n",
      "__________________________________________________________________________________________________\n",
      "block_13_depthwise_relu (ReLU)  (None, 1, 1, 576)    0           block_13_depthwise_BN[0][0]      \n",
      "__________________________________________________________________________________________________\n",
      "block_13_project (Conv2D)       (None, 1, 1, 160)    92160       block_13_depthwise_relu[0][0]    \n",
      "__________________________________________________________________________________________________\n",
      "block_13_project_BN (BatchNorma (None, 1, 1, 160)    640         block_13_project[0][0]           \n",
      "__________________________________________________________________________________________________\n",
      "block_14_expand (Conv2D)        (None, 1, 1, 960)    153600      block_13_project_BN[0][0]        \n",
      "__________________________________________________________________________________________________\n",
      "block_14_expand_BN (BatchNormal (None, 1, 1, 960)    3840        block_14_expand[0][0]            \n",
      "__________________________________________________________________________________________________\n",
      "block_14_expand_relu (ReLU)     (None, 1, 1, 960)    0           block_14_expand_BN[0][0]         \n",
      "__________________________________________________________________________________________________\n",
      "block_14_depthwise (DepthwiseCo (None, 1, 1, 960)    8640        block_14_expand_relu[0][0]       \n",
      "__________________________________________________________________________________________________\n",
      "block_14_depthwise_BN (BatchNor (None, 1, 1, 960)    3840        block_14_depthwise[0][0]         \n",
      "__________________________________________________________________________________________________\n",
      "block_14_depthwise_relu (ReLU)  (None, 1, 1, 960)    0           block_14_depthwise_BN[0][0]      \n",
      "__________________________________________________________________________________________________\n",
      "block_14_project (Conv2D)       (None, 1, 1, 160)    153600      block_14_depthwise_relu[0][0]    \n",
      "__________________________________________________________________________________________________\n",
      "block_14_project_BN (BatchNorma (None, 1, 1, 160)    640         block_14_project[0][0]           \n",
      "__________________________________________________________________________________________________\n",
      "block_14_add (Add)              (None, 1, 1, 160)    0           block_13_project_BN[0][0]        \n",
      "                                                                 block_14_project_BN[0][0]        \n",
      "__________________________________________________________________________________________________\n",
      "block_15_expand (Conv2D)        (None, 1, 1, 960)    153600      block_14_add[0][0]               \n",
      "__________________________________________________________________________________________________\n",
      "block_15_expand_BN (BatchNormal (None, 1, 1, 960)    3840        block_15_expand[0][0]            \n",
      "__________________________________________________________________________________________________\n",
      "block_15_expand_relu (ReLU)     (None, 1, 1, 960)    0           block_15_expand_BN[0][0]         \n",
      "__________________________________________________________________________________________________\n",
      "block_15_depthwise (DepthwiseCo (None, 1, 1, 960)    8640        block_15_expand_relu[0][0]       \n",
      "__________________________________________________________________________________________________\n",
      "block_15_depthwise_BN (BatchNor (None, 1, 1, 960)    3840        block_15_depthwise[0][0]         \n",
      "__________________________________________________________________________________________________\n",
      "block_15_depthwise_relu (ReLU)  (None, 1, 1, 960)    0           block_15_depthwise_BN[0][0]      \n",
      "__________________________________________________________________________________________________\n",
      "block_15_project (Conv2D)       (None, 1, 1, 160)    153600      block_15_depthwise_relu[0][0]    \n",
      "__________________________________________________________________________________________________\n",
      "block_15_project_BN (BatchNorma (None, 1, 1, 160)    640         block_15_project[0][0]           \n",
      "__________________________________________________________________________________________________\n",
      "block_15_add (Add)              (None, 1, 1, 160)    0           block_14_add[0][0]               \n",
      "                                                                 block_15_project_BN[0][0]        \n",
      "__________________________________________________________________________________________________\n",
      "block_16_expand (Conv2D)        (None, 1, 1, 960)    153600      block_15_add[0][0]               \n",
      "__________________________________________________________________________________________________\n",
      "block_16_expand_BN (BatchNormal (None, 1, 1, 960)    3840        block_16_expand[0][0]            \n",
      "__________________________________________________________________________________________________\n",
      "block_16_expand_relu (ReLU)     (None, 1, 1, 960)    0           block_16_expand_BN[0][0]         \n",
      "__________________________________________________________________________________________________\n",
      "block_16_depthwise (DepthwiseCo (None, 1, 1, 960)    8640        block_16_expand_relu[0][0]       \n",
      "__________________________________________________________________________________________________\n",
      "block_16_depthwise_BN (BatchNor (None, 1, 1, 960)    3840        block_16_depthwise[0][0]         \n",
      "__________________________________________________________________________________________________\n",
      "block_16_depthwise_relu (ReLU)  (None, 1, 1, 960)    0           block_16_depthwise_BN[0][0]      \n",
      "__________________________________________________________________________________________________\n",
      "block_16_project (Conv2D)       (None, 1, 1, 320)    307200      block_16_depthwise_relu[0][0]    \n",
      "__________________________________________________________________________________________________\n",
      "block_16_project_BN (BatchNorma (None, 1, 1, 320)    1280        block_16_project[0][0]           \n",
      "__________________________________________________________________________________________________\n",
      "Conv_1 (Conv2D)                 (None, 1, 1, 1280)   409600      block_16_project_BN[0][0]        \n",
      "__________________________________________________________________________________________________\n",
      "Conv_1_bn (BatchNormalization)  (None, 1, 1, 1280)   5120        Conv_1[0][0]                     \n",
      "__________________________________________________________________________________________________\n",
      "out_relu (ReLU)                 (None, 1, 1, 1280)   0           Conv_1_bn[0][0]                  \n",
      "__________________________________________________________________________________________________\n",
      "dropout_88 (Dropout)            (None, 1, 1, 1280)   0           out_relu[0][0]                   \n",
      "__________________________________________________________________________________________________\n",
      "flatten_50 (Flatten)            (None, 1280)         0           dropout_88[0][0]                 \n",
      "__________________________________________________________________________________________________\n",
      "dense_184 (Dense)               (None, 500)          640500      flatten_50[0][0]                 \n",
      "__________________________________________________________________________________________________\n",
      "dropout_89 (Dropout)            (None, 500)          0           dense_184[0][0]                  \n",
      "__________________________________________________________________________________________________\n",
      "dense_185 (Dense)               (None, 250)          125250      dropout_89[0][0]                 \n",
      "__________________________________________________________________________________________________\n",
      "dropout_90 (Dropout)            (None, 250)          0           dense_185[0][0]                  \n",
      "__________________________________________________________________________________________________\n",
      "dense_186 (Dense)               (None, 125)          31375       dropout_90[0][0]                 \n",
      "__________________________________________________________________________________________________\n",
      "dropout_91 (Dropout)            (None, 125)          0           dense_186[0][0]                  \n",
      "__________________________________________________________________________________________________\n",
      "dense_187 (Dense)               (None, 10)           1260        dropout_91[0][0]                 \n",
      "==================================================================================================\n",
      "Total params: 3,056,369\n",
      "Trainable params: 798,385\n",
      "Non-trainable params: 2,257,984\n",
      "__________________________________________________________________________________________________\n"
     ]
    }
   ],
   "source": [
    "model.summary()"
   ]
  },
  {
   "cell_type": "code",
   "execution_count": 253,
   "id": "bea96aa4",
   "metadata": {},
   "outputs": [
    {
     "name": "stdout",
     "output_type": "stream",
     "text": [
      "Epoch 1/25\n",
      "375/375 [==============================] - 24s 60ms/step - loss: 2.2166 - accuracy: 0.1649 - val_loss: 2.1496 - val_accuracy: 0.2189\n",
      "Epoch 2/25\n",
      "375/375 [==============================] - 23s 62ms/step - loss: 2.1897 - accuracy: 0.1783 - val_loss: 2.1403 - val_accuracy: 0.2194\n",
      "Epoch 3/25\n",
      "375/375 [==============================] - 23s 62ms/step - loss: 2.1849 - accuracy: 0.1801 - val_loss: 2.1361 - val_accuracy: 0.2215\n",
      "Epoch 4/25\n",
      "375/375 [==============================] - 23s 63ms/step - loss: 2.1754 - accuracy: 0.1863 - val_loss: 2.1262 - val_accuracy: 0.2190\n",
      "Epoch 5/25\n",
      "375/375 [==============================] - 23s 62ms/step - loss: 2.1712 - accuracy: 0.1888 - val_loss: 2.1187 - val_accuracy: 0.2146\n",
      "Epoch 6/25\n",
      "375/375 [==============================] - 23s 61ms/step - loss: 2.1735 - accuracy: 0.1870 - val_loss: 2.1377 - val_accuracy: 0.2184\n",
      "Epoch 7/25\n",
      "375/375 [==============================] - 23s 62ms/step - loss: 2.1681 - accuracy: 0.1891 - val_loss: 2.1336 - val_accuracy: 0.2217\n",
      "Epoch 8/25\n",
      "375/375 [==============================] - 23s 61ms/step - loss: 2.1664 - accuracy: 0.1887 - val_loss: 2.1367 - val_accuracy: 0.2185\n",
      "Epoch 9/25\n",
      "375/375 [==============================] - 23s 61ms/step - loss: 2.1663 - accuracy: 0.1919 - val_loss: 2.1250 - val_accuracy: 0.2218\n",
      "Epoch 10/25\n",
      "375/375 [==============================] - 23s 61ms/step - loss: 2.1650 - accuracy: 0.1910 - val_loss: 2.1182 - val_accuracy: 0.2240\n",
      "Epoch 11/25\n",
      "375/375 [==============================] - 23s 61ms/step - loss: 2.1635 - accuracy: 0.1929 - val_loss: 2.1128 - val_accuracy: 0.2166\n",
      "Epoch 12/25\n",
      "375/375 [==============================] - 23s 63ms/step - loss: 2.1613 - accuracy: 0.1909 - val_loss: 2.1189 - val_accuracy: 0.2166\n",
      "Epoch 13/25\n",
      "375/375 [==============================] - 23s 61ms/step - loss: 2.1605 - accuracy: 0.1910 - val_loss: 2.1099 - val_accuracy: 0.2274\n",
      "Epoch 14/25\n",
      "375/375 [==============================] - 23s 61ms/step - loss: 2.1608 - accuracy: 0.1923 - val_loss: 2.1195 - val_accuracy: 0.2113\n",
      "Epoch 15/25\n",
      "375/375 [==============================] - 23s 62ms/step - loss: 2.1625 - accuracy: 0.1903 - val_loss: 2.1103 - val_accuracy: 0.2202\n",
      "Epoch 16/25\n",
      "375/375 [==============================] - 23s 61ms/step - loss: 2.1568 - accuracy: 0.1955 - val_loss: 2.1098 - val_accuracy: 0.2216\n",
      "Epoch 17/25\n",
      "375/375 [==============================] - 23s 61ms/step - loss: 2.1582 - accuracy: 0.1923 - val_loss: 2.1114 - val_accuracy: 0.2206\n",
      "Epoch 18/25\n",
      "375/375 [==============================] - 23s 61ms/step - loss: 2.1559 - accuracy: 0.1957 - val_loss: 2.1167 - val_accuracy: 0.2168\n",
      "Epoch 19/25\n",
      "375/375 [==============================] - 23s 61ms/step - loss: 2.1572 - accuracy: 0.1919 - val_loss: 2.1134 - val_accuracy: 0.2253\n",
      "Epoch 20/25\n",
      "375/375 [==============================] - 23s 61ms/step - loss: 2.1585 - accuracy: 0.1940 - val_loss: 2.1245 - val_accuracy: 0.2208\n",
      "Epoch 21/25\n",
      "375/375 [==============================] - 23s 61ms/step - loss: 2.1546 - accuracy: 0.1959 - val_loss: 2.1300 - val_accuracy: 0.2161\n",
      "Epoch 22/25\n",
      "375/375 [==============================] - 23s 62ms/step - loss: 2.1558 - accuracy: 0.1953 - val_loss: 2.1085 - val_accuracy: 0.2212\n",
      "Epoch 23/25\n",
      "375/375 [==============================] - 23s 61ms/step - loss: 2.1556 - accuracy: 0.1950 - val_loss: 2.1164 - val_accuracy: 0.2218\n",
      "Epoch 24/25\n",
      "375/375 [==============================] - 23s 61ms/step - loss: 2.1524 - accuracy: 0.1962 - val_loss: 2.1143 - val_accuracy: 0.2204\n",
      "Epoch 25/25\n",
      "375/375 [==============================] - 23s 62ms/step - loss: 2.1522 - accuracy: 0.1981 - val_loss: 2.1168 - val_accuracy: 0.2209\n"
     ]
    }
   ],
   "source": [
    "history_2 = model.fit(X_train, y_train_one_hot, batch_size = 100, epochs = 25, \n",
    "                 validation_split = 0.25)"
   ]
  },
  {
   "cell_type": "code",
   "execution_count": 254,
   "id": "2d89ac5b",
   "metadata": {
    "scrolled": true
   },
   "outputs": [
    {
     "name": "stdout",
     "output_type": "stream",
     "text": [
      "313/313 [==============================] - 7s 20ms/step - loss: 2.1094 - accuracy: 0.2240\n"
     ]
    },
    {
     "data": {
      "text/plain": [
       "0.2240000069141388"
      ]
     },
     "execution_count": 254,
     "metadata": {},
     "output_type": "execute_result"
    }
   ],
   "source": [
    "model.evaluate(X_test, y_test_one_hot)[1]"
   ]
  },
  {
   "cell_type": "markdown",
   "id": "ca2a2239",
   "metadata": {},
   "source": [
    "### Model 3 Transfer Learning with MobileNet(Frozen Base) - Accuracy:  0.224"
   ]
  },
  {
   "cell_type": "code",
   "execution_count": 265,
   "id": "7c838771",
   "metadata": {},
   "outputs": [
    {
     "name": "stdout",
     "output_type": "stream",
     "text": [
      "WARNING:tensorflow:`input_shape` is undefined or non-square, or `rows` is not in [96, 128, 160, 192, 224]. Weights for input shape (224, 224) will be loaded as the default.\n"
     ]
    }
   ],
   "source": [
    "base_model = mobilenet_v2.MobileNetV2(weights='imagenet', include_top=False, input_shape=(32,32,3), classes=y_train.shape[1])    \n",
    "for layer in base_model.layers:\n",
    "    layer.trainable = False  \n",
    "    \n",
    "model_2 = Sequential(\n",
    "                        [InputLayer(input_shape=X_train.shape[1:]),\n",
    "                         #ZeroPadding2D(padding=1.5),\n",
    "                         base_model,\n",
    "                         Dropout(0.50),\n",
    "                         Flatten(),\n",
    "                         Dense(500, activation='relu'),\n",
    "                         Dense(250, activation='relu'),\n",
    "                         Dropout(.3),\n",
    "                         Dense(125, activation = 'relu'),\n",
    "                         Dropout(.2),\n",
    "                         Dense(10, activation='softmax')]\n",
    "                       )\n",
    "    \n",
    "model_2.compile(\n",
    "    loss='categorical_crossentropy',\n",
    "    optimizer='adam',\n",
    "    metrics=['accuracy'],\n",
    ")"
   ]
  },
  {
   "cell_type": "code",
   "execution_count": 266,
   "id": "7377fd8b",
   "metadata": {
    "scrolled": false
   },
   "outputs": [
    {
     "name": "stdout",
     "output_type": "stream",
     "text": [
      "Epoch 1/25\n",
      "375/375 [==============================] - 22s 57ms/step - loss: 2.1701 - accuracy: 0.1888 - val_loss: 2.1284 - val_accuracy: 0.2140\n",
      "Epoch 2/25\n",
      "375/375 [==============================] - 23s 61ms/step - loss: 2.1742 - accuracy: 0.1879 - val_loss: 2.1343 - val_accuracy: 0.2146\n",
      "Epoch 3/25\n",
      "375/375 [==============================] - 22s 58ms/step - loss: 2.1671 - accuracy: 0.1918 - val_loss: 2.1270 - val_accuracy: 0.2172\n",
      "Epoch 4/25\n",
      "375/375 [==============================] - 22s 58ms/step - loss: 2.1641 - accuracy: 0.1929 - val_loss: 2.1262 - val_accuracy: 0.2162\n",
      "Epoch 5/25\n",
      "375/375 [==============================] - 23s 60ms/step - loss: 2.1623 - accuracy: 0.1939 - val_loss: 2.1184 - val_accuracy: 0.2207\n",
      "Epoch 6/25\n",
      "375/375 [==============================] - 22s 59ms/step - loss: 2.1607 - accuracy: 0.1925 - val_loss: 2.1227 - val_accuracy: 0.2164\n",
      "Epoch 7/25\n",
      "375/375 [==============================] - 22s 59ms/step - loss: 2.1599 - accuracy: 0.1910 - val_loss: 2.1238 - val_accuracy: 0.2198\n",
      "Epoch 8/25\n",
      "375/375 [==============================] - 22s 57ms/step - loss: 2.1560 - accuracy: 0.1942 - val_loss: 2.1219 - val_accuracy: 0.2125\n",
      "Epoch 9/25\n",
      "375/375 [==============================] - 22s 57ms/step - loss: 2.1574 - accuracy: 0.1930 - val_loss: 2.1163 - val_accuracy: 0.2213\n",
      "Epoch 10/25\n",
      "375/375 [==============================] - 22s 60ms/step - loss: 2.1562 - accuracy: 0.1937 - val_loss: 2.1184 - val_accuracy: 0.2281\n",
      "Epoch 11/25\n",
      "375/375 [==============================] - 22s 60ms/step - loss: 2.1568 - accuracy: 0.1949 - val_loss: 2.1185 - val_accuracy: 0.2194\n",
      "Epoch 12/25\n",
      "375/375 [==============================] - 22s 59ms/step - loss: 2.1555 - accuracy: 0.1914 - val_loss: 2.1213 - val_accuracy: 0.2162\n",
      "Epoch 13/25\n",
      "375/375 [==============================] - 21s 57ms/step - loss: 2.1553 - accuracy: 0.1934 - val_loss: 2.1251 - val_accuracy: 0.2110\n",
      "Epoch 14/25\n",
      "375/375 [==============================] - 24s 65ms/step - loss: 2.1542 - accuracy: 0.1962 - val_loss: 2.1140 - val_accuracy: 0.2185\n",
      "Epoch 15/25\n",
      "375/375 [==============================] - 22s 59ms/step - loss: 2.1527 - accuracy: 0.1955 - val_loss: 2.1230 - val_accuracy: 0.2134\n",
      "Epoch 16/25\n",
      "375/375 [==============================] - 22s 60ms/step - loss: 2.1505 - accuracy: 0.1960 - val_loss: 2.1112 - val_accuracy: 0.2187\n",
      "Epoch 17/25\n",
      "375/375 [==============================] - 22s 59ms/step - loss: 2.1495 - accuracy: 0.1962 - val_loss: 2.1065 - val_accuracy: 0.2231\n",
      "Epoch 18/25\n",
      "375/375 [==============================] - 21s 57ms/step - loss: 2.1510 - accuracy: 0.1954 - val_loss: 2.1079 - val_accuracy: 0.2255\n",
      "Epoch 19/25\n",
      "375/375 [==============================] - 22s 58ms/step - loss: 2.1483 - accuracy: 0.1954 - val_loss: 2.1103 - val_accuracy: 0.2182\n",
      "Epoch 20/25\n",
      "375/375 [==============================] - 22s 58ms/step - loss: 2.1468 - accuracy: 0.1982 - val_loss: 2.1136 - val_accuracy: 0.2149\n",
      "Epoch 21/25\n",
      "375/375 [==============================] - 22s 58ms/step - loss: 2.1492 - accuracy: 0.1947 - val_loss: 2.1146 - val_accuracy: 0.2186\n",
      "Epoch 22/25\n",
      "375/375 [==============================] - 21s 57ms/step - loss: 2.1497 - accuracy: 0.1965 - val_loss: 2.1243 - val_accuracy: 0.2176\n",
      "Epoch 23/25\n",
      "375/375 [==============================] - 22s 58ms/step - loss: 2.1475 - accuracy: 0.2007 - val_loss: 2.1116 - val_accuracy: 0.2200\n",
      "Epoch 24/25\n",
      "375/375 [==============================] - 22s 58ms/step - loss: 2.1474 - accuracy: 0.1980 - val_loss: 2.1003 - val_accuracy: 0.2274\n",
      "Epoch 25/25\n",
      "375/375 [==============================] - 22s 59ms/step - loss: 2.1458 - accuracy: 0.2016 - val_loss: 2.1090 - val_accuracy: 0.2254\n"
     ]
    },
    {
     "data": {
      "text/plain": [
       "<tensorflow.python.keras.callbacks.History at 0x7f933b5bc3a0>"
      ]
     },
     "execution_count": 266,
     "metadata": {},
     "output_type": "execute_result"
    }
   ],
   "source": [
    "NN_transfer.fit(X_train, y_train_one_hot, batch_size=100,epochs=25,validation_split=0.25)"
   ]
  },
  {
   "cell_type": "code",
   "execution_count": 267,
   "id": "3f2acd90",
   "metadata": {},
   "outputs": [
    {
     "name": "stdout",
     "output_type": "stream",
     "text": [
      "313/313 [==============================] - 6s 19ms/step - loss: 2.1094 - accuracy: 0.2240\n"
     ]
    },
    {
     "data": {
      "text/plain": [
       "0.2240000069141388"
      ]
     },
     "execution_count": 267,
     "metadata": {},
     "output_type": "execute_result"
    }
   ],
   "source": [
    "model.evaluate(X_test, y_test_one_hot)[1]"
   ]
  },
  {
   "cell_type": "markdown",
   "id": "fde5b298",
   "metadata": {},
   "source": [
    "### Model 4 MobileNet Unfrozen Base 6 Dense Layers -  Accuracy:  0.735"
   ]
  },
  {
   "cell_type": "code",
   "execution_count": 232,
   "id": "19da01c1",
   "metadata": {},
   "outputs": [
    {
     "name": "stdout",
     "output_type": "stream",
     "text": [
      "WARNING:tensorflow:`input_shape` is undefined or non-square, or `rows` is not in [96, 128, 160, 192, 224]. Weights for input shape (224, 224) will be loaded as the default.\n"
     ]
    }
   ],
   "source": [
    "base_model = mobilenet_v2.MobileNetV2(weights='imagenet', include_top=False, input_shape=(32,32,3), classes=y_train.shape[1]) \n",
    "\n",
    "model = Sequential()\n",
    "\n",
    "model.add(base_model)\n",
    "model.add(Dropout(0.5))\n",
    "model.add(Flatten())\n",
    "\n",
    "#Adding the Dense Layers and Dropout\n",
    "model.add(Dense(1000,activation=('relu'))) \n",
    "\n",
    "model.add(Dense(750,activation=('relu'))) \n",
    "\n",
    "model.add(Dropout(.3))\n",
    "\n",
    "model.add(Dense(500, activation=('relu')))\n",
    "\n",
    "model.add(Dropout(.25))\n",
    "\n",
    "model.add(Dense(250,activation=('relu')))\n",
    "\n",
    "model.add(Dropout(.2))\n",
    "\n",
    "model.add(Dense(125, activation=('relu')))\n",
    "\n",
    "model.add(Dropout(.10))\n",
    "\n",
    "model.add(Dense(10,activation=('softmax')))\n",
    "#Visualizing Model Summary"
   ]
  },
  {
   "cell_type": "code",
   "execution_count": 233,
   "id": "01ac56af",
   "metadata": {},
   "outputs": [
    {
     "name": "stdout",
     "output_type": "stream",
     "text": [
      "Model: \"sequential_24\"\n",
      "_________________________________________________________________\n",
      "Layer (type)                 Output Shape              Param #   \n",
      "=================================================================\n",
      "mobilenetv2_1.00_224 (Functi (None, 1, 1, 1280)        2257984   \n",
      "_________________________________________________________________\n",
      "dropout_75 (Dropout)         (None, 1, 1, 1280)        0         \n",
      "_________________________________________________________________\n",
      "flatten_46 (Flatten)         (None, 1280)              0         \n",
      "_________________________________________________________________\n",
      "dense_169 (Dense)            (None, 1000)              1281000   \n",
      "_________________________________________________________________\n",
      "dense_170 (Dense)            (None, 750)               750750    \n",
      "_________________________________________________________________\n",
      "dropout_76 (Dropout)         (None, 750)               0         \n",
      "_________________________________________________________________\n",
      "dense_171 (Dense)            (None, 500)               375500    \n",
      "_________________________________________________________________\n",
      "dropout_77 (Dropout)         (None, 500)               0         \n",
      "_________________________________________________________________\n",
      "dense_172 (Dense)            (None, 250)               125250    \n",
      "_________________________________________________________________\n",
      "dropout_78 (Dropout)         (None, 250)               0         \n",
      "_________________________________________________________________\n",
      "dense_173 (Dense)            (None, 125)               31375     \n",
      "_________________________________________________________________\n",
      "dropout_79 (Dropout)         (None, 125)               0         \n",
      "_________________________________________________________________\n",
      "dense_174 (Dense)            (None, 10)                1260      \n",
      "=================================================================\n",
      "Total params: 4,823,119\n",
      "Trainable params: 4,789,007\n",
      "Non-trainable params: 34,112\n",
      "_________________________________________________________________\n"
     ]
    }
   ],
   "source": [
    "model.summary()"
   ]
  },
  {
   "cell_type": "code",
   "execution_count": 234,
   "id": "7594e857",
   "metadata": {},
   "outputs": [],
   "source": [
    "model.compile(loss = 'categorical_crossentropy', optimizer = 'adam',\n",
    "              metrics = ['accuracy'])\n"
   ]
  },
  {
   "cell_type": "code",
   "execution_count": 235,
   "id": "ac76ec5a",
   "metadata": {},
   "outputs": [
    {
     "name": "stdout",
     "output_type": "stream",
     "text": [
      "Epoch 1/25\n",
      "400/400 [==============================] - 96s 232ms/step - loss: 1.5863 - accuracy: 0.4289 - val_loss: 4.3855 - val_accuracy: 0.1579\n",
      "Epoch 2/25\n",
      "400/400 [==============================] - 91s 227ms/step - loss: 1.0189 - accuracy: 0.6800 - val_loss: 2.9502 - val_accuracy: 0.4023\n",
      "Epoch 3/25\n",
      "400/400 [==============================] - 90s 224ms/step - loss: 0.8714 - accuracy: 0.7295 - val_loss: 4.4078 - val_accuracy: 0.3283\n",
      "Epoch 4/25\n",
      "400/400 [==============================] - 90s 224ms/step - loss: 0.7874 - accuracy: 0.7573 - val_loss: 1.6151 - val_accuracy: 0.5957\n",
      "Epoch 5/25\n",
      "400/400 [==============================] - 91s 228ms/step - loss: 0.7165 - accuracy: 0.7793 - val_loss: 1.5413 - val_accuracy: 0.6626\n",
      "Epoch 6/25\n",
      "400/400 [==============================] - 91s 226ms/step - loss: 0.6657 - accuracy: 0.7952 - val_loss: 1.3971 - val_accuracy: 0.6779\n",
      "Epoch 7/25\n",
      "400/400 [==============================] - 90s 224ms/step - loss: 0.6285 - accuracy: 0.8067 - val_loss: 1.2243 - val_accuracy: 0.6926\n",
      "Epoch 8/25\n",
      "400/400 [==============================] - 88s 220ms/step - loss: 0.5835 - accuracy: 0.8194 - val_loss: 2.0361 - val_accuracy: 0.6595\n",
      "Epoch 9/25\n",
      "400/400 [==============================] - 89s 222ms/step - loss: 0.5627 - accuracy: 0.8244 - val_loss: 1.9454 - val_accuracy: 0.6477\n",
      "Epoch 10/25\n",
      "400/400 [==============================] - 89s 223ms/step - loss: 0.5255 - accuracy: 0.8386 - val_loss: 1.6159 - val_accuracy: 0.7037\n",
      "Epoch 11/25\n",
      "400/400 [==============================] - 90s 225ms/step - loss: 0.5127 - accuracy: 0.8434 - val_loss: 1.3785 - val_accuracy: 0.7216\n",
      "Epoch 12/25\n",
      "400/400 [==============================] - 92s 229ms/step - loss: 0.5005 - accuracy: 0.8475 - val_loss: 1.4706 - val_accuracy: 0.7346\n",
      "Epoch 13/25\n",
      "400/400 [==============================] - 90s 225ms/step - loss: 0.4796 - accuracy: 0.8529 - val_loss: 1.3768 - val_accuracy: 0.7514\n",
      "Epoch 14/25\n",
      "400/400 [==============================] - 91s 228ms/step - loss: 0.4679 - accuracy: 0.8605 - val_loss: 1.8789 - val_accuracy: 0.6947\n",
      "Epoch 15/25\n",
      "400/400 [==============================] - 90s 226ms/step - loss: 0.4407 - accuracy: 0.8667 - val_loss: 1.3511 - val_accuracy: 0.7408\n",
      "Epoch 16/25\n",
      "400/400 [==============================] - 90s 225ms/step - loss: 0.4302 - accuracy: 0.8699 - val_loss: 1.5381 - val_accuracy: 0.7493\n",
      "Epoch 17/25\n",
      "400/400 [==============================] - 92s 229ms/step - loss: 0.4495 - accuracy: 0.8625 - val_loss: 1.7632 - val_accuracy: 0.6835\n",
      "Epoch 18/25\n",
      "400/400 [==============================] - 98s 245ms/step - loss: 0.4249 - accuracy: 0.8726 - val_loss: 2.0951 - val_accuracy: 0.7213\n",
      "Epoch 19/25\n",
      "400/400 [==============================] - 97s 242ms/step - loss: 0.4375 - accuracy: 0.8670 - val_loss: 1.4079 - val_accuracy: 0.7425\n",
      "Epoch 20/25\n",
      "400/400 [==============================] - 99s 249ms/step - loss: 0.3896 - accuracy: 0.8814 - val_loss: 1.2284 - val_accuracy: 0.7409\n",
      "Epoch 21/25\n",
      "400/400 [==============================] - 100s 249ms/step - loss: 0.3837 - accuracy: 0.8841 - val_loss: 1.5652 - val_accuracy: 0.7252\n",
      "Epoch 22/25\n",
      "400/400 [==============================] - 99s 247ms/step - loss: 0.3562 - accuracy: 0.8914 - val_loss: 1.6780 - val_accuracy: 0.7161\n",
      "Epoch 23/25\n",
      "400/400 [==============================] - 98s 244ms/step - loss: 0.3379 - accuracy: 0.8960 - val_loss: 1.9418 - val_accuracy: 0.7144\n",
      "Epoch 24/25\n",
      "400/400 [==============================] - 98s 246ms/step - loss: 0.3579 - accuracy: 0.8941 - val_loss: 2.4179 - val_accuracy: 0.6652\n",
      "Epoch 25/25\n",
      "400/400 [==============================] - 97s 244ms/step - loss: 0.3615 - accuracy: 0.8900 - val_loss: 1.3678 - val_accuracy: 0.7501\n"
     ]
    }
   ],
   "source": [
    "history_model_D = model.fit(X_train, y_train_one_hot, batch_size = 100, epochs = 25, \n",
    "                 validation_split = 0.2)"
   ]
  },
  {
   "cell_type": "code",
   "execution_count": 237,
   "id": "343e5ceb",
   "metadata": {},
   "outputs": [
    {
     "name": "stdout",
     "output_type": "stream",
     "text": [
      "313/313 [==============================] - 7s 21ms/step - loss: 1.5128 - accuracy: 0.7363\n"
     ]
    },
    {
     "data": {
      "text/plain": [
       "0.736299991607666"
      ]
     },
     "execution_count": 237,
     "metadata": {},
     "output_type": "execute_result"
    }
   ],
   "source": [
    "model.evaluate(X_test, y_test_one_hot)[1]"
   ]
  },
  {
   "cell_type": "code",
   "execution_count": 151,
   "id": "d6245f29",
   "metadata": {
    "scrolled": true
   },
   "outputs": [
    {
     "name": "stderr",
     "output_type": "stream",
     "text": [
      "/Users/rahulraju/opt/anaconda3/envs/metis/lib/python3.8/site-packages/tensorflow/python/keras/engine/sequential.py:455: UserWarning: `model.predict_classes()` is deprecated and will be removed after 2021-01-01. Please use instead:* `np.argmax(model.predict(x), axis=-1)`,   if your model does multi-class classification   (e.g. if it uses a `softmax` last-layer activation).* `(model.predict(x) > 0.5).astype(\"int32\")`,   if your model does binary classification   (e.g. if it uses a `sigmoid` last-layer activation).\n",
      "  warnings.warn('`model.predict_classes()` is deprecated and '\n"
     ]
    },
    {
     "data": {
      "text/plain": [
       "<AxesSubplot:>"
      ]
     },
     "execution_count": 151,
     "metadata": {},
     "output_type": "execute_result"
    },
    {
     "data": {
      "image/png": "[encoded data removed]",
      "text/plain": [
       "<Figure size 432x288 with 2 Axes>"
      ]
     },
     "metadata": {
      "needs_background": "light"
     },
     "output_type": "display_data"
    }
   ],
   "source": [
    "model_D_confusion_matrix = confusion_matrix(y_test, model.predict_classes(X_test))\n",
    "\n",
    "sns.heatmap(model_confusion_matrix, cmap=plt.cm.Blues, annot=True, square=True, fmt='d')"
   ]
  },
  {
   "cell_type": "code",
   "execution_count": 156,
   "id": "9bfa2e55",
   "metadata": {},
   "outputs": [],
   "source": [
    "classes = ['aeroplane','automobile','bird','cat','deer','dog','frog','horse','ship','truck' ]\n"
   ]
  },
  {
   "cell_type": "code",
   "execution_count": 158,
   "id": "b834b71d",
   "metadata": {
    "scrolled": false
   },
   "outputs": [
    {
     "data": {
      "text/plain": [
       "Text(83.40000000000006, 0.5, 'Actual')"
      ]
     },
     "execution_count": 158,
     "metadata": {},
     "output_type": "execute_result"
    },
    {
     "data": {
      "image/png": "[encoded data removed]",
      "text/plain": [
       "<Figure size 432x288 with 2 Axes>"
      ]
     },
     "metadata": {
      "needs_background": "light"
     },
     "output_type": "display_data"
    }
   ],
   "source": [
    "sns.heatmap(model_confusion_matrix, cmap=plt.cm.Blues, annot=True, square=True, fmt='d')\n",
    "           #xticklabels = [classes], yticklabels=[classes])\n",
    "\n",
    "plt.xlabel('Predicted')\n",
    "plt.ylabel('Actual')\n"
   ]
  },
  {
   "cell_type": "code",
   "execution_count": 326,
   "id": "b62881be",
   "metadata": {},
   "outputs": [],
   "source": [
    "del model_5"
   ]
  },
  {
   "cell_type": "markdown",
   "id": "fa123151",
   "metadata": {},
   "source": [
    "### Model 5 MobileNet Unfrozen Base 5 Dense Layers -  Accuracy:  0.757"
   ]
  },
  {
   "cell_type": "code",
   "execution_count": 327,
   "id": "c8fe566c",
   "metadata": {},
   "outputs": [
    {
     "name": "stdout",
     "output_type": "stream",
     "text": [
      "WARNING:tensorflow:`input_shape` is undefined or non-square, or `rows` is not in [96, 128, 160, 192, 224]. Weights for input shape (224, 224) will be loaded as the default.\n"
     ]
    }
   ],
   "source": [
    "base_model_2 = mobilenet_v2.MobileNetV2(weights='imagenet', include_top=False, input_shape=(32,32,3), classes=y_train.shape[1]) \n",
    "\n",
    "\n",
    "# for layer in base_model_2.layers:\n",
    "#     layer.trainable = False\n",
    "\n",
    "\n",
    "model_5 = Sequential()\n",
    "\n",
    "model_5.add(base_model_2)\n",
    "model_5.add(Dropout(0.5))\n",
    "model_5.add(Flatten())\n",
    "\n",
    "model_5.add(Dense(750,activation=('relu'))) \n",
    "\n",
    "model_5.add(Dense(512, activation=('relu')))\n",
    "\n",
    "model_5.add(Dropout(.3))\n",
    "\n",
    "model_5.add(Dense(256,activation=('relu')))\n",
    "\n",
    "model_5.add(Dropout(.20))\n",
    "\n",
    "model_5.add(Dense(128,activation=('relu'))) \n",
    "\n",
    "model_5.add(Dropout(.1))\n",
    "\n",
    "model_5.add(Dense(10,activation=('softmax')))\n"
   ]
  },
  {
   "cell_type": "code",
   "execution_count": 328,
   "id": "ad654066",
   "metadata": {},
   "outputs": [
    {
     "name": "stdout",
     "output_type": "stream",
     "text": [
      "Model: \"sequential_42\"\n",
      "_________________________________________________________________\n",
      "Layer (type)                 Output Shape              Param #   \n",
      "=================================================================\n",
      "mobilenetv2_1.00_224 (Functi (None, 1, 1, 1280)        2257984   \n",
      "_________________________________________________________________\n",
      "dropout_144 (Dropout)        (None, 1, 1, 1280)        0         \n",
      "_________________________________________________________________\n",
      "flatten_66 (Flatten)         (None, 1280)              0         \n",
      "_________________________________________________________________\n",
      "dense_257 (Dense)            (None, 750)               960750    \n",
      "_________________________________________________________________\n",
      "dense_258 (Dense)            (None, 512)               384512    \n",
      "_________________________________________________________________\n",
      "dropout_145 (Dropout)        (None, 512)               0         \n",
      "_________________________________________________________________\n",
      "dense_259 (Dense)            (None, 256)               131328    \n",
      "_________________________________________________________________\n",
      "dropout_146 (Dropout)        (None, 256)               0         \n",
      "_________________________________________________________________\n",
      "dense_260 (Dense)            (None, 128)               32896     \n",
      "_________________________________________________________________\n",
      "dropout_147 (Dropout)        (None, 128)               0         \n",
      "_________________________________________________________________\n",
      "dense_261 (Dense)            (None, 10)                1290      \n",
      "=================================================================\n",
      "Total params: 3,768,760\n",
      "Trainable params: 3,734,648\n",
      "Non-trainable params: 34,112\n",
      "_________________________________________________________________\n"
     ]
    }
   ],
   "source": [
    "model_5.summary()"
   ]
  },
  {
   "cell_type": "code",
   "execution_count": 329,
   "id": "cd33733c",
   "metadata": {},
   "outputs": [],
   "source": [
    "model_5.compile(loss = 'categorical_crossentropy', optimizer = 'adam',\n",
    "              metrics = ['accuracy'])"
   ]
  },
  {
   "cell_type": "code",
   "execution_count": 330,
   "id": "bbced2f5",
   "metadata": {},
   "outputs": [
    {
     "name": "stdout",
     "output_type": "stream",
     "text": [
      "Epoch 1/25\n",
      "400/400 [==============================] - 96s 227ms/step - loss: 1.4705 - accuracy: 0.4935 - val_loss: 2.1045 - val_accuracy: 0.2382\n",
      "Epoch 2/25\n",
      "400/400 [==============================] - 93s 232ms/step - loss: 0.9582 - accuracy: 0.6967 - val_loss: 1.5564 - val_accuracy: 0.4755\n",
      "Epoch 3/25\n",
      "400/400 [==============================] - 93s 232ms/step - loss: 0.8097 - accuracy: 0.7465 - val_loss: 1.6580 - val_accuracy: 0.5561\n",
      "Epoch 4/25\n",
      "400/400 [==============================] - 93s 233ms/step - loss: 0.7163 - accuracy: 0.7761 - val_loss: 1.2515 - val_accuracy: 0.6271\n",
      "Epoch 5/25\n",
      "400/400 [==============================] - 95s 238ms/step - loss: 0.6381 - accuracy: 0.8002 - val_loss: 1.2760 - val_accuracy: 0.6577\n",
      "Epoch 6/25\n",
      "400/400 [==============================] - 96s 240ms/step - loss: 0.5939 - accuracy: 0.8137 - val_loss: 1.6123 - val_accuracy: 0.6550\n",
      "Epoch 7/25\n",
      "400/400 [==============================] - 90s 226ms/step - loss: 0.5663 - accuracy: 0.8235 - val_loss: 1.8164 - val_accuracy: 0.6718\n",
      "Epoch 8/25\n",
      "400/400 [==============================] - 95s 238ms/step - loss: 0.5321 - accuracy: 0.8372 - val_loss: 1.6105 - val_accuracy: 0.6644\n",
      "Epoch 9/25\n",
      "400/400 [==============================] - 97s 243ms/step - loss: 0.5211 - accuracy: 0.8394 - val_loss: 2.4664 - val_accuracy: 0.5848\n",
      "Epoch 10/25\n",
      "400/400 [==============================] - 99s 247ms/step - loss: 0.4829 - accuracy: 0.8497 - val_loss: 1.6033 - val_accuracy: 0.6974\n",
      "Epoch 11/25\n",
      "400/400 [==============================] - 99s 248ms/step - loss: 0.4492 - accuracy: 0.8583 - val_loss: 1.3998 - val_accuracy: 0.7329\n",
      "Epoch 12/25\n",
      "400/400 [==============================] - 99s 247ms/step - loss: 0.4643 - accuracy: 0.8573 - val_loss: 1.4040 - val_accuracy: 0.7320\n",
      "Epoch 13/25\n",
      "400/400 [==============================] - 95s 237ms/step - loss: 0.4305 - accuracy: 0.8674 - val_loss: 1.5125 - val_accuracy: 0.7074\n",
      "Epoch 14/25\n",
      "400/400 [==============================] - 96s 239ms/step - loss: 0.4190 - accuracy: 0.8682 - val_loss: 1.5104 - val_accuracy: 0.6962\n",
      "Epoch 15/25\n",
      "400/400 [==============================] - 93s 232ms/step - loss: 0.4020 - accuracy: 0.8759 - val_loss: 1.5044 - val_accuracy: 0.7195\n",
      "Epoch 16/25\n",
      "400/400 [==============================] - 92s 230ms/step - loss: 0.3694 - accuracy: 0.8839 - val_loss: 1.5570 - val_accuracy: 0.7210\n",
      "Epoch 17/25\n",
      "400/400 [==============================] - 95s 237ms/step - loss: 0.3531 - accuracy: 0.8911 - val_loss: 1.7144 - val_accuracy: 0.7333\n",
      "Epoch 18/25\n",
      "400/400 [==============================] - 95s 238ms/step - loss: 0.3479 - accuracy: 0.8932 - val_loss: 1.8688 - val_accuracy: 0.6637\n",
      "Epoch 19/25\n",
      "400/400 [==============================] - 94s 236ms/step - loss: 0.3978 - accuracy: 0.8775 - val_loss: 2.0091 - val_accuracy: 0.6618\n",
      "Epoch 20/25\n",
      "400/400 [==============================] - 92s 230ms/step - loss: 0.3414 - accuracy: 0.8942 - val_loss: 1.8753 - val_accuracy: 0.7317\n",
      "Epoch 21/25\n",
      "400/400 [==============================] - 93s 232ms/step - loss: 0.3025 - accuracy: 0.9072 - val_loss: 1.4714 - val_accuracy: 0.7331\n",
      "Epoch 22/25\n",
      "400/400 [==============================] - 96s 239ms/step - loss: 0.3044 - accuracy: 0.9060 - val_loss: 2.5836 - val_accuracy: 0.6388\n",
      "Epoch 23/25\n",
      "400/400 [==============================] - 94s 234ms/step - loss: 0.2952 - accuracy: 0.9109 - val_loss: 1.2099 - val_accuracy: 0.7579\n",
      "Epoch 24/25\n",
      "400/400 [==============================] - 93s 233ms/step - loss: 0.2793 - accuracy: 0.9142 - val_loss: 1.1824 - val_accuracy: 0.7806\n",
      "Epoch 25/25\n",
      "400/400 [==============================] - 93s 233ms/step - loss: 0.2885 - accuracy: 0.9123 - val_loss: 1.5875 - val_accuracy: 0.7192\n"
     ]
    }
   ],
   "source": [
    "history_5 = model_5.fit(X_train, y_train_one_hot, batch_size = 100, epochs = 25, \n",
    "                 validation_split = 0.2)"
   ]
  },
  {
   "cell_type": "code",
   "execution_count": 331,
   "id": "5a3a00d0",
   "metadata": {},
   "outputs": [
    {
     "name": "stdout",
     "output_type": "stream",
     "text": [
      "313/313 [==============================] - 8s 21ms/step - loss: 1.5909 - accuracy: 0.7193\n"
     ]
    },
    {
     "data": {
      "text/plain": [
       "0.7192999720573425"
      ]
     },
     "execution_count": 331,
     "metadata": {},
     "output_type": "execute_result"
    }
   ],
   "source": [
    "model_5.evaluate(X_test, y_test_one_hot)[1]"
   ]
  },
  {
   "cell_type": "code",
   "execution_count": 311,
   "id": "920fb2ad",
   "metadata": {
    "scrolled": false
   },
   "outputs": [
    {
     "name": "stdout",
     "output_type": "stream",
     "text": [
      "              precision    recall  f1-score   support\n",
      "\n",
      "           0       0.92      0.46      0.61      1000\n",
      "           1       0.86      0.88      0.87      1000\n",
      "           2       0.61      0.76      0.68      1000\n",
      "           3       0.65      0.40      0.50      1000\n",
      "           4       0.58      0.76      0.66      1000\n",
      "           5       0.48      0.87      0.62      1000\n",
      "           6       0.90      0.67      0.77      1000\n",
      "           7       0.81      0.80      0.81      1000\n",
      "           8       0.85      0.85      0.85      1000\n",
      "           9       0.94      0.74      0.83      1000\n",
      "\n",
      "    accuracy                           0.72     10000\n",
      "   macro avg       0.76      0.72      0.72     10000\n",
      "weighted avg       0.76      0.72      0.72     10000\n",
      "\n"
     ]
    }
   ],
   "source": [
    "y_pred = model_5.predict(X_test)\n",
    "\n",
    "y_pred_classes = [np.argmax(object) for object in y_pred]\n",
    "\n",
    "print(classification_report(y_test,  y_pred_classes))"
   ]
  },
  {
   "cell_type": "code",
   "execution_count": 191,
   "id": "774ba4d3",
   "metadata": {},
   "outputs": [
    {
     "name": "stderr",
     "output_type": "stream",
     "text": [
      "/Users/rahulraju/opt/anaconda3/envs/metis/lib/python3.8/site-packages/tensorflow/python/keras/engine/sequential.py:455: UserWarning: `model.predict_classes()` is deprecated and will be removed after 2021-01-01. Please use instead:* `np.argmax(model.predict(x), axis=-1)`,   if your model does multi-class classification   (e.g. if it uses a `softmax` last-layer activation).* `(model.predict(x) > 0.5).astype(\"int32\")`,   if your model does binary classification   (e.g. if it uses a `sigmoid` last-layer activation).\n",
      "  warnings.warn('`model.predict_classes()` is deprecated and '\n"
     ]
    }
   ],
   "source": [
    "model_confusion_matrix = confusion_matrix(y_test, model_2.predict_classes(X_test))"
   ]
  },
  {
   "cell_type": "code",
   "execution_count": 192,
   "id": "b01922b5",
   "metadata": {
    "scrolled": true
   },
   "outputs": [
    {
     "data": {
      "text/plain": [
       "Text(83.40000000000006, 0.5, 'Actual')"
      ]
     },
     "execution_count": 192,
     "metadata": {},
     "output_type": "execute_result"
    },
    {
     "data": {
      "image/png": "[encoded data removed]",
      "text/plain": [
       "<Figure size 432x288 with 2 Axes>"
      ]
     },
     "metadata": {
      "needs_background": "light"
     },
     "output_type": "display_data"
    }
   ],
   "source": [
    "sns.heatmap(model_confusion_matrix, cmap=plt.cm.Blues, annot=True, square=True, fmt='d')\n",
    "           #xticklabels = [classes], yticklabels=[classes])\n",
    "\n",
    "plt.xlabel('Predicted')\n",
    "plt.ylabel('Actual')\n"
   ]
  },
  {
   "cell_type": "code",
   "execution_count": 193,
   "id": "fa0dcd93",
   "metadata": {
    "scrolled": true
   },
   "outputs": [
    {
     "data": {
      "text/plain": [
       "<matplotlib.legend.Legend at 0x7f9321066a90>"
      ]
     },
     "execution_count": 193,
     "metadata": {},
     "output_type": "execute_result"
    },
    {
     "data": {
      "image/png": "[encoded data removed]",
      "text/plain": [
       "<Figure size 432x288 with 1 Axes>"
      ]
     },
     "metadata": {
      "needs_background": "light"
     },
     "output_type": "display_data"
    }
   ],
   "source": [
    "plt.plot(history.history['accuracy'])\n",
    "plt.plot(history.history['val_accuracy'])\n",
    "\n",
    "plt.title('Accuracy vs. Training Epoch')\n",
    "plt.xlabel('Epoch')\n",
    "plt.ylabel('Accuracy')\n",
    "plt.legend(['Train','Validation'])\n",
    "\n"
   ]
  },
  {
   "cell_type": "code",
   "execution_count": null,
   "id": "9f022e35",
   "metadata": {},
   "outputs": [],
   "source": [
    "0: airplane\n",
    "1: automobile\n",
    "2: bird\n",
    "3: cat\n",
    "4: deer\n",
    "5: dog\n",
    "6: frog\n",
    "7: horse\n",
    "8: ship\n",
    "9: truck"
   ]
  },
  {
   "cell_type": "code",
   "execution_count": 183,
   "id": "a31ec3ba",
   "metadata": {
    "scrolled": true
   },
   "outputs": [
    {
     "ename": "TypeError",
     "evalue": "'History' object is not subscriptable",
     "output_type": "error",
     "traceback": [
      "\u001b[0;31m---------------------------------------------------------------------------\u001b[0m",
      "\u001b[0;31mTypeError\u001b[0m                                 Traceback (most recent call last)",
      "\u001b[0;32m<ipython-input-183-62100d94b96f>\u001b[0m in \u001b[0;36m<module>\u001b[0;34m\u001b[0m\n\u001b[0;32m----> 1\u001b[0;31m \u001b[0mmodel_2\u001b[0m\u001b[0;34m.\u001b[0m\u001b[0mhistory\u001b[0m\u001b[0;34m[\u001b[0m\u001b[0;34m'val_accuracy'\u001b[0m\u001b[0;34m]\u001b[0m\u001b[0;34m\u001b[0m\u001b[0;34m\u001b[0m\u001b[0m\n\u001b[0m",
      "\u001b[0;31mTypeError\u001b[0m: 'History' object is not subscriptable"
     ]
    }
   ],
   "source": [
    "model_2.history['val_accuracy']"
   ]
  },
  {
   "cell_type": "markdown",
   "id": "f86c01bf",
   "metadata": {},
   "source": [
    "### Model 6 Augmented Transfer Learning - Accuracy:  0.228\n",
    "#### Step 1)  Model trained with MobileNet convolutional base frozen\n",
    "#### Step 2)  Output from step 1 is retrained again only using dense layers"
   ]
  },
  {
   "cell_type": "code",
   "execution_count": 217,
   "id": "72106e5e",
   "metadata": {},
   "outputs": [
    {
     "name": "stdout",
     "output_type": "stream",
     "text": [
      "WARNING:tensorflow:`input_shape` is undefined or non-square, or `rows` is not in [96, 128, 160, 192, 224]. Weights for input shape (224, 224) will be loaded as the default.\n"
     ]
    }
   ],
   "source": [
    "base_model_3 = mobilenet_v2.MobileNetV2(weights='imagenet', include_top=False, input_shape=(32,32,3), classes=y_train.shape[1]) \n",
    "\n",
    "\n",
    "for layer in base_model_3.layers:\n",
    "    layer.trainable = False\n",
    "\n",
    "\n",
    "model_3 = Sequential()\n",
    "\n",
    "model_3.add(base_model_3)\n",
    "#model_3.add(Dropout(0.4))\n",
    "model_3.add(Flatten())\n",
    "\n",
    "model_3.add(Dense(512, activation=('relu')))\n",
    "\n",
    "model_3.add(Dense(256,activation=('relu')))\n",
    "\n",
    "model_3.add(Dropout(.3))\n",
    "\n",
    "model_3.add(Dense(128,activation=('relu'))) \n",
    "\n",
    "model_3.add(Dropout(.2))\n",
    "\n",
    "model_3.add(Dense(64, activation=('relu')))\n",
    "\n",
    "model_3.add(Dropout(.10))\n",
    "\n",
    "model_3.add(Dense(10,activation=('softmax')))\n"
   ]
  },
  {
   "cell_type": "code",
   "execution_count": 218,
   "id": "41c48471",
   "metadata": {},
   "outputs": [],
   "source": [
    "model_3.compile(loss = 'categorical_crossentropy', optimizer = 'adam',\n",
    "              metrics = ['accuracy'])\n"
   ]
  },
  {
   "cell_type": "code",
   "execution_count": 219,
   "id": "57b5a8c5",
   "metadata": {},
   "outputs": [
    {
     "name": "stdout",
     "output_type": "stream",
     "text": [
      "Epoch 1/25\n",
      "400/400 [==============================] - 26s 60ms/step - loss: 2.1521 - accuracy: 0.1970 - val_loss: 2.0937 - val_accuracy: 0.2243\n",
      "Epoch 2/25\n",
      "400/400 [==============================] - 23s 58ms/step - loss: 2.0989 - accuracy: 0.2251 - val_loss: 2.0802 - val_accuracy: 0.2311\n",
      "Epoch 3/25\n",
      "400/400 [==============================] - 23s 58ms/step - loss: 2.0816 - accuracy: 0.2314 - val_loss: 2.0763 - val_accuracy: 0.2361\n",
      "Epoch 4/25\n",
      "400/400 [==============================] - 24s 59ms/step - loss: 2.0685 - accuracy: 0.2354 - val_loss: 2.0677 - val_accuracy: 0.2380\n",
      "Epoch 5/25\n",
      "400/400 [==============================] - 23s 59ms/step - loss: 2.0576 - accuracy: 0.2400 - val_loss: 2.0689 - val_accuracy: 0.2380\n",
      "Epoch 6/25\n",
      "400/400 [==============================] - 24s 59ms/step - loss: 2.0471 - accuracy: 0.2449 - val_loss: 2.0664 - val_accuracy: 0.2360\n",
      "Epoch 7/25\n",
      "400/400 [==============================] - 24s 59ms/step - loss: 2.0353 - accuracy: 0.2501 - val_loss: 2.0702 - val_accuracy: 0.2379\n",
      "Epoch 8/25\n",
      "400/400 [==============================] - 24s 59ms/step - loss: 2.0249 - accuracy: 0.2537 - val_loss: 2.0796 - val_accuracy: 0.2426\n",
      "Epoch 9/25\n",
      "400/400 [==============================] - 25s 63ms/step - loss: 2.0135 - accuracy: 0.2571 - val_loss: 2.0735 - val_accuracy: 0.2333\n",
      "Epoch 10/25\n",
      "400/400 [==============================] - 28s 69ms/step - loss: 2.0002 - accuracy: 0.2619 - val_loss: 2.0864 - val_accuracy: 0.2440\n",
      "Epoch 11/25\n",
      "400/400 [==============================] - 26s 64ms/step - loss: 1.9879 - accuracy: 0.2658 - val_loss: 2.0930 - val_accuracy: 0.2374\n",
      "Epoch 12/25\n",
      "400/400 [==============================] - 27s 68ms/step - loss: 1.9739 - accuracy: 0.2728 - val_loss: 2.1037 - val_accuracy: 0.2331\n",
      "Epoch 13/25\n",
      "400/400 [==============================] - 24s 61ms/step - loss: 1.9628 - accuracy: 0.2763 - val_loss: 2.1131 - val_accuracy: 0.2363\n",
      "Epoch 14/25\n",
      "400/400 [==============================] - 24s 60ms/step - loss: 1.9479 - accuracy: 0.2841 - val_loss: 2.1360 - val_accuracy: 0.2349\n",
      "Epoch 15/25\n",
      "400/400 [==============================] - 26s 65ms/step - loss: 1.9332 - accuracy: 0.2855 - val_loss: 2.1512 - val_accuracy: 0.2361\n",
      "Epoch 16/25\n",
      "400/400 [==============================] - 26s 64ms/step - loss: 1.9217 - accuracy: 0.2915 - val_loss: 2.1901 - val_accuracy: 0.2305\n",
      "Epoch 17/25\n",
      "400/400 [==============================] - 25s 62ms/step - loss: 1.9029 - accuracy: 0.2980 - val_loss: 2.2145 - val_accuracy: 0.2320\n",
      "Epoch 18/25\n",
      "400/400 [==============================] - 25s 61ms/step - loss: 1.8882 - accuracy: 0.3027 - val_loss: 2.2100 - val_accuracy: 0.2348\n",
      "Epoch 19/25\n",
      "400/400 [==============================] - 25s 61ms/step - loss: 1.8803 - accuracy: 0.3071 - val_loss: 2.2169 - val_accuracy: 0.2308\n",
      "Epoch 20/25\n",
      "400/400 [==============================] - 24s 60ms/step - loss: 1.8661 - accuracy: 0.3115 - val_loss: 2.2609 - val_accuracy: 0.2291\n",
      "Epoch 21/25\n",
      "400/400 [==============================] - 24s 60ms/step - loss: 1.8518 - accuracy: 0.3168 - val_loss: 2.2789 - val_accuracy: 0.2280\n",
      "Epoch 22/25\n",
      "400/400 [==============================] - 24s 60ms/step - loss: 1.8402 - accuracy: 0.3199 - val_loss: 2.3033 - val_accuracy: 0.2299\n",
      "Epoch 23/25\n",
      "400/400 [==============================] - 24s 59ms/step - loss: 1.8324 - accuracy: 0.3253 - val_loss: 2.3186 - val_accuracy: 0.2311\n",
      "Epoch 24/25\n",
      "400/400 [==============================] - 24s 60ms/step - loss: 1.8188 - accuracy: 0.3303 - val_loss: 2.3634 - val_accuracy: 0.2262\n",
      "Epoch 25/25\n",
      "400/400 [==============================] - 24s 61ms/step - loss: 1.8067 - accuracy: 0.3327 - val_loss: 2.3976 - val_accuracy: 0.2282\n"
     ]
    }
   ],
   "source": [
    "history = model_3.fit(X_train, y_train_one_hot, batch_size = 100, epochs = 25, \n",
    "                 validation_split = 0.2)"
   ]
  },
  {
   "cell_type": "code",
   "execution_count": 220,
   "id": "84191b4d",
   "metadata": {
    "scrolled": true
   },
   "outputs": [
    {
     "name": "stdout",
     "output_type": "stream",
     "text": [
      "313/313 [==============================] - 7s 20ms/step - loss: 2.3590 - accuracy: 0.2306\n"
     ]
    },
    {
     "data": {
      "text/plain": [
       "0.2305999994277954"
      ]
     },
     "execution_count": 220,
     "metadata": {},
     "output_type": "execute_result"
    }
   ],
   "source": [
    "model_3.evaluate(X_test, y_test_one_hot)[1]"
   ]
  },
  {
   "cell_type": "code",
   "execution_count": 332,
   "id": "5649a819",
   "metadata": {},
   "outputs": [],
   "source": [
    "# Output from initial training is trained agained using only model dense layers\n",
    "\n",
    "#model_3.add(base_model_3)\n",
    "#model_3.add(Dropout(0.4))\n",
    "model_3.add(Flatten())\n",
    "\n",
    "model_3.add(Dense(512, activation=('relu')))\n",
    "\n",
    "model_3.add(Dense(256,activation=('relu')))\n",
    "\n",
    "model_3.add(Dropout(.3))\n",
    "\n",
    "model_3.add(Dense(128,activation=('relu'))) \n",
    "\n",
    "model_3.add(Dropout(.2))\n",
    "\n",
    "model_3.add(Dense(64, activation=('relu')))\n",
    "\n",
    "model_3.add(Dropout(.10))\n",
    "\n",
    "model_3.add(Dense(10,activation=('softmax')))\n",
    "#Visualizing Model Summary"
   ]
  },
  {
   "cell_type": "code",
   "execution_count": 352,
   "id": "6090c07b",
   "metadata": {},
   "outputs": [
    {
     "name": "stdout",
     "output_type": "stream",
     "text": [
      "Model: \"sequential_23\"\n",
      "_________________________________________________________________\n",
      "Layer (type)                 Output Shape              Param #   \n",
      "=================================================================\n",
      "mobilenetv2_1.00_224 (Functi (None, 1, 1, 1280)        2257984   \n",
      "_________________________________________________________________\n",
      "flatten_42 (Flatten)         (None, 1280)              0         \n",
      "_________________________________________________________________\n",
      "dense_144 (Dense)            (None, 512)               655872    \n",
      "_________________________________________________________________\n",
      "dense_145 (Dense)            (None, 256)               131328    \n",
      "_________________________________________________________________\n",
      "dropout_59 (Dropout)         (None, 256)               0         \n",
      "_________________________________________________________________\n",
      "dense_146 (Dense)            (None, 128)               32896     \n",
      "_________________________________________________________________\n",
      "dropout_60 (Dropout)         (None, 128)               0         \n",
      "_________________________________________________________________\n",
      "dense_147 (Dense)            (None, 64)                8256      \n",
      "_________________________________________________________________\n",
      "dropout_61 (Dropout)         (None, 64)                0         \n",
      "_________________________________________________________________\n",
      "dense_148 (Dense)            (None, 10)                650       \n",
      "_________________________________________________________________\n",
      "dropout_62 (Dropout)         (None, 10)                0         \n",
      "_________________________________________________________________\n",
      "flatten_43 (Flatten)         (None, 10)                0         \n",
      "_________________________________________________________________\n",
      "dense_149 (Dense)            (None, 512)               5632      \n",
      "_________________________________________________________________\n",
      "dense_150 (Dense)            (None, 256)               131328    \n",
      "_________________________________________________________________\n",
      "dropout_63 (Dropout)         (None, 256)               0         \n",
      "_________________________________________________________________\n",
      "dense_151 (Dense)            (None, 128)               32896     \n",
      "_________________________________________________________________\n",
      "dropout_64 (Dropout)         (None, 128)               0         \n",
      "_________________________________________________________________\n",
      "dense_152 (Dense)            (None, 64)                8256      \n",
      "_________________________________________________________________\n",
      "dropout_65 (Dropout)         (None, 64)                0         \n",
      "_________________________________________________________________\n",
      "dense_153 (Dense)            (None, 10)                650       \n",
      "_________________________________________________________________\n",
      "flatten_44 (Flatten)         (None, 10)                0         \n",
      "_________________________________________________________________\n",
      "dense_154 (Dense)            (None, 512)               5632      \n",
      "_________________________________________________________________\n",
      "dense_155 (Dense)            (None, 256)               131328    \n",
      "_________________________________________________________________\n",
      "dropout_66 (Dropout)         (None, 256)               0         \n",
      "_________________________________________________________________\n",
      "dense_156 (Dense)            (None, 128)               32896     \n",
      "_________________________________________________________________\n",
      "dropout_67 (Dropout)         (None, 128)               0         \n",
      "_________________________________________________________________\n",
      "dense_157 (Dense)            (None, 64)                8256      \n",
      "_________________________________________________________________\n",
      "dropout_68 (Dropout)         (None, 64)                0         \n",
      "_________________________________________________________________\n",
      "dense_158 (Dense)            (None, 10)                650       \n",
      "_________________________________________________________________\n",
      "dense_159 (Dense)            (None, 512)               5632      \n",
      "_________________________________________________________________\n",
      "dense_160 (Dense)            (None, 256)               131328    \n",
      "_________________________________________________________________\n",
      "dropout_69 (Dropout)         (None, 256)               0         \n",
      "_________________________________________________________________\n",
      "dense_161 (Dense)            (None, 128)               32896     \n",
      "_________________________________________________________________\n",
      "dropout_70 (Dropout)         (None, 128)               0         \n",
      "_________________________________________________________________\n",
      "dense_162 (Dense)            (None, 64)                8256      \n",
      "_________________________________________________________________\n",
      "dropout_71 (Dropout)         (None, 64)                0         \n",
      "_________________________________________________________________\n",
      "dense_163 (Dense)            (None, 10)                650       \n",
      "_________________________________________________________________\n",
      "flatten_45 (Flatten)         (None, 10)                0         \n",
      "_________________________________________________________________\n",
      "dense_164 (Dense)            (None, 512)               5632      \n",
      "_________________________________________________________________\n",
      "dense_165 (Dense)            (None, 256)               131328    \n",
      "_________________________________________________________________\n",
      "dropout_72 (Dropout)         (None, 256)               0         \n",
      "_________________________________________________________________\n",
      "dense_166 (Dense)            (None, 128)               32896     \n",
      "_________________________________________________________________\n",
      "dropout_73 (Dropout)         (None, 128)               0         \n",
      "_________________________________________________________________\n",
      "dense_167 (Dense)            (None, 64)                8256      \n",
      "_________________________________________________________________\n",
      "dropout_74 (Dropout)         (None, 64)                0         \n",
      "_________________________________________________________________\n",
      "dense_168 (Dense)            (None, 10)                650       \n",
      "_________________________________________________________________\n",
      "flatten_67 (Flatten)         (None, 10)                0         \n",
      "_________________________________________________________________\n",
      "dense_262 (Dense)            (None, 512)               5632      \n",
      "_________________________________________________________________\n",
      "dense_263 (Dense)            (None, 256)               131328    \n",
      "_________________________________________________________________\n",
      "dropout_148 (Dropout)        (None, 256)               0         \n",
      "_________________________________________________________________\n",
      "dense_264 (Dense)            (None, 128)               32896     \n",
      "_________________________________________________________________\n",
      "dropout_149 (Dropout)        (None, 128)               0         \n",
      "_________________________________________________________________\n",
      "dense_265 (Dense)            (None, 64)                8256      \n",
      "_________________________________________________________________\n",
      "dropout_150 (Dropout)        (None, 64)                0         \n",
      "_________________________________________________________________\n",
      "dense_266 (Dense)            (None, 10)                650       \n",
      "_________________________________________________________________\n",
      "dropout_157 (Dropout)        (None, 10)                0         \n",
      "=================================================================\n",
      "Total params: 3,980,796\n",
      "Trainable params: 1,722,812\n",
      "Non-trainable params: 2,257,984\n",
      "_________________________________________________________________\n"
     ]
    }
   ],
   "source": [
    "model_3.summary()"
   ]
  },
  {
   "cell_type": "code",
   "execution_count": 236,
   "id": "2c49b3c9",
   "metadata": {},
   "outputs": [],
   "source": [
    "model_3.compile(loss = 'categorical_crossentropy', optimizer = 'adam',\n",
    "              metrics = ['accuracy'])"
   ]
  },
  {
   "cell_type": "code",
   "execution_count": null,
   "id": "bfa9f491",
   "metadata": {},
   "outputs": [],
   "source": []
  },
  {
   "cell_type": "code",
   "execution_count": 227,
   "id": "f42f907a",
   "metadata": {},
   "outputs": [
    {
     "name": "stdout",
     "output_type": "stream",
     "text": [
      "Epoch 1/25\n",
      "400/400 [==============================] - 23s 57ms/step - loss: 1.7241 - accuracy: 0.3653 - val_loss: 2.6694 - val_accuracy: 0.2228\n",
      "Epoch 2/25\n",
      "400/400 [==============================] - 23s 57ms/step - loss: 1.7136 - accuracy: 0.3684 - val_loss: 2.7162 - val_accuracy: 0.2281\n",
      "Epoch 3/25\n",
      "400/400 [==============================] - 23s 57ms/step - loss: 1.7129 - accuracy: 0.3676 - val_loss: 2.6908 - val_accuracy: 0.2284\n",
      "Epoch 4/25\n",
      "400/400 [==============================] - 23s 58ms/step - loss: 1.7081 - accuracy: 0.3708 - val_loss: 2.6801 - val_accuracy: 0.2264\n",
      "Epoch 5/25\n",
      "400/400 [==============================] - 23s 57ms/step - loss: 1.6985 - accuracy: 0.3743 - val_loss: 2.7426 - val_accuracy: 0.2241\n",
      "Epoch 6/25\n",
      "400/400 [==============================] - 23s 57ms/step - loss: 1.6936 - accuracy: 0.3746 - val_loss: 2.7667 - val_accuracy: 0.2256\n",
      "Epoch 7/25\n",
      "400/400 [==============================] - 23s 57ms/step - loss: 1.6858 - accuracy: 0.3798 - val_loss: 2.8069 - val_accuracy: 0.2221\n",
      "Epoch 8/25\n",
      "400/400 [==============================] - 23s 57ms/step - loss: 1.6869 - accuracy: 0.3771 - val_loss: 2.7856 - val_accuracy: 0.2245\n",
      "Epoch 9/25\n",
      "400/400 [==============================] - 23s 57ms/step - loss: 1.6786 - accuracy: 0.3810 - val_loss: 2.8735 - val_accuracy: 0.2254\n",
      "Epoch 10/25\n",
      "400/400 [==============================] - 23s 57ms/step - loss: 1.6744 - accuracy: 0.3834 - val_loss: 2.8244 - val_accuracy: 0.2244\n",
      "Epoch 11/25\n",
      "400/400 [==============================] - 23s 57ms/step - loss: 1.6661 - accuracy: 0.3868 - val_loss: 2.8807 - val_accuracy: 0.2208\n",
      "Epoch 12/25\n",
      "400/400 [==============================] - 23s 57ms/step - loss: 1.6620 - accuracy: 0.3876 - val_loss: 2.8612 - val_accuracy: 0.2251\n",
      "Epoch 13/25\n",
      "400/400 [==============================] - 23s 57ms/step - loss: 1.6613 - accuracy: 0.3870 - val_loss: 2.8357 - val_accuracy: 0.2238\n",
      "Epoch 14/25\n",
      "400/400 [==============================] - 23s 57ms/step - loss: 1.6601 - accuracy: 0.3866 - val_loss: 2.9195 - val_accuracy: 0.2258\n",
      "Epoch 15/25\n",
      "400/400 [==============================] - 23s 57ms/step - loss: 1.6562 - accuracy: 0.3881 - val_loss: 3.0083 - val_accuracy: 0.2223\n",
      "Epoch 16/25\n",
      "400/400 [==============================] - 23s 57ms/step - loss: 1.6519 - accuracy: 0.3908 - val_loss: 2.9710 - val_accuracy: 0.2214\n",
      "Epoch 17/25\n",
      "400/400 [==============================] - 23s 57ms/step - loss: 1.6447 - accuracy: 0.3930 - val_loss: 2.9684 - val_accuracy: 0.2219\n",
      "Epoch 18/25\n",
      "400/400 [==============================] - 23s 57ms/step - loss: 1.6422 - accuracy: 0.3936 - val_loss: 2.9716 - val_accuracy: 0.2235\n",
      "Epoch 19/25\n",
      "400/400 [==============================] - 23s 57ms/step - loss: 1.6393 - accuracy: 0.3946 - val_loss: 3.0042 - val_accuracy: 0.2269\n",
      "Epoch 20/25\n",
      "400/400 [==============================] - 23s 57ms/step - loss: 1.6334 - accuracy: 0.3965 - val_loss: 3.0738 - val_accuracy: 0.2249\n",
      "Epoch 21/25\n",
      "400/400 [==============================] - 23s 58ms/step - loss: 1.6328 - accuracy: 0.3968 - val_loss: 3.0016 - val_accuracy: 0.2215\n",
      "Epoch 22/25\n",
      "400/400 [==============================] - 23s 57ms/step - loss: 1.6301 - accuracy: 0.3977 - val_loss: 3.0335 - val_accuracy: 0.2184\n",
      "Epoch 23/25\n",
      "400/400 [==============================] - 23s 57ms/step - loss: 1.6279 - accuracy: 0.3997 - val_loss: 3.0635 - val_accuracy: 0.2239\n",
      "Epoch 24/25\n",
      "400/400 [==============================] - 23s 57ms/step - loss: 1.6233 - accuracy: 0.3994 - val_loss: 3.0708 - val_accuracy: 0.2266\n",
      "Epoch 25/25\n",
      "400/400 [==============================] - 23s 57ms/step - loss: 1.6209 - accuracy: 0.4034 - val_loss: 3.0706 - val_accuracy: 0.2212\n"
     ]
    }
   ],
   "source": [
    "history = model_3.fit(X_train, y_train_one_hot, batch_size = 100, epochs = 25, \n",
    "                 validation_split = 0.2)"
   ]
  },
  {
   "cell_type": "code",
   "execution_count": 228,
   "id": "e16943b2",
   "metadata": {},
   "outputs": [
    {
     "name": "stdout",
     "output_type": "stream",
     "text": [
      "313/313 [==============================] - 6s 20ms/step - loss: 2.9646 - accuracy: 0.2286\n"
     ]
    },
    {
     "data": {
      "text/plain": [
       "0.22859999537467957"
      ]
     },
     "execution_count": 228,
     "metadata": {},
     "output_type": "execute_result"
    }
   ],
   "source": [
    "model_3.evaluate(X_test, y_test_one_hot)[1]"
   ]
  },
  {
   "cell_type": "markdown",
   "id": "aad25e87",
   "metadata": {},
   "source": [
    "### Model 7: Transfer Learning with MobileNet Version 1 - Unfrozen Base\n",
    "#### - 3 layers(500,250,125 nodes respectively)\n",
    "#### - Dropout after each dense layer(0.3,0.2,0.1)"
   ]
  },
  {
   "cell_type": "code",
   "execution_count": 341,
   "id": "421010dc",
   "metadata": {},
   "outputs": [
    {
     "name": "stdout",
     "output_type": "stream",
     "text": [
      "WARNING:tensorflow:`input_shape` is undefined or non-square, or `rows` is not in [128, 160, 192, 224]. Weights for input shape (224, 224) will be loaded as the default.\n"
     ]
    }
   ],
   "source": [
    "base_model_7 = MobileNet(weights='imagenet', include_top=False, input_shape=(32,32,3), classes=y_train.shape[1]) \n",
    "\n",
    "\n",
    "# for layer in base_model_7.layers:\n",
    "#     layer.trainable = False\n",
    "\n",
    "\n",
    "model_7 = Sequential()\n",
    "\n",
    "model_7.add(base_model_7)\n",
    "model_7.add(Dropout(0.4))\n",
    "model_7.add(Flatten())\n",
    "\n",
    "model_7.add(Dense(512, activation=('relu')))\n",
    "\n",
    "model_7.add(Dense(256,activation=('relu')))\n",
    "\n",
    "model_7.add(Dropout(.3))\n",
    "\n",
    "model_7.add(Dense(128,activation=('relu'))) \n",
    "\n",
    "model_7.add(Dropout(.2))\n",
    "\n",
    "model_7.add(Dense(64, activation=('relu')))\n",
    "\n",
    "model_7.add(Dropout(.10))\n",
    "\n",
    "model_7.add(Dense(10,activation=('softmax')))\n"
   ]
  },
  {
   "cell_type": "code",
   "execution_count": 342,
   "id": "d86b91e0",
   "metadata": {},
   "outputs": [],
   "source": [
    "model_7.compile(loss = 'categorical_crossentropy', optimizer = 'adam',\n",
    "              metrics = ['accuracy'])"
   ]
  },
  {
   "cell_type": "code",
   "execution_count": 343,
   "id": "870478c1",
   "metadata": {},
   "outputs": [
    {
     "name": "stdout",
     "output_type": "stream",
     "text": [
      "Epoch 1/25\n",
      "400/400 [==============================] - 141s 347ms/step - loss: 1.2847 - accuracy: 0.5648 - val_loss: 0.9559 - val_accuracy: 0.6946\n",
      "Epoch 2/25\n",
      "400/400 [==============================] - 138s 345ms/step - loss: 0.8384 - accuracy: 0.7362 - val_loss: 0.8442 - val_accuracy: 0.7338\n",
      "Epoch 3/25\n",
      "400/400 [==============================] - 140s 350ms/step - loss: 0.7072 - accuracy: 0.7774 - val_loss: 0.9395 - val_accuracy: 0.7210\n",
      "Epoch 4/25\n",
      "400/400 [==============================] - 142s 355ms/step - loss: 0.6281 - accuracy: 0.8055 - val_loss: 0.7493 - val_accuracy: 0.7748\n",
      "Epoch 5/25\n",
      "400/400 [==============================] - 143s 356ms/step - loss: 0.5499 - accuracy: 0.8265 - val_loss: 0.7223 - val_accuracy: 0.7675\n",
      "Epoch 6/25\n",
      "400/400 [==============================] - 138s 346ms/step - loss: 0.4962 - accuracy: 0.8475 - val_loss: 0.7685 - val_accuracy: 0.7677\n",
      "Epoch 7/25\n",
      "400/400 [==============================] - 138s 345ms/step - loss: 0.4535 - accuracy: 0.8603 - val_loss: 0.7341 - val_accuracy: 0.7790\n",
      "Epoch 8/25\n",
      "400/400 [==============================] - 139s 347ms/step - loss: 0.4091 - accuracy: 0.8740 - val_loss: 0.9432 - val_accuracy: 0.7409\n",
      "Epoch 9/25\n",
      "400/400 [==============================] - 138s 346ms/step - loss: 0.3805 - accuracy: 0.8835 - val_loss: 0.6775 - val_accuracy: 0.7950\n",
      "Epoch 10/25\n",
      "400/400 [==============================] - 141s 352ms/step - loss: 0.3518 - accuracy: 0.8920 - val_loss: 0.6507 - val_accuracy: 0.8009\n",
      "Epoch 11/25\n",
      "400/400 [==============================] - 140s 350ms/step - loss: 0.3160 - accuracy: 0.9041 - val_loss: 0.7363 - val_accuracy: 0.7974\n",
      "Epoch 12/25\n",
      "400/400 [==============================] - 140s 349ms/step - loss: 0.2980 - accuracy: 0.9085 - val_loss: 0.7768 - val_accuracy: 0.7858\n",
      "Epoch 13/25\n",
      "400/400 [==============================] - 140s 351ms/step - loss: 0.2753 - accuracy: 0.9180 - val_loss: 0.7287 - val_accuracy: 0.7898\n",
      "Epoch 14/25\n",
      "400/400 [==============================] - 139s 348ms/step - loss: 0.2503 - accuracy: 0.9258 - val_loss: 0.8550 - val_accuracy: 0.7870\n",
      "Epoch 15/25\n",
      "400/400 [==============================] - 140s 349ms/step - loss: 0.2337 - accuracy: 0.9308 - val_loss: 0.6714 - val_accuracy: 0.8162\n",
      "Epoch 16/25\n",
      "400/400 [==============================] - 142s 354ms/step - loss: 0.2167 - accuracy: 0.9366 - val_loss: 0.7434 - val_accuracy: 0.8058\n",
      "Epoch 17/25\n",
      "400/400 [==============================] - 142s 354ms/step - loss: 0.2047 - accuracy: 0.9398 - val_loss: 0.8047 - val_accuracy: 0.8070\n",
      "Epoch 18/25\n",
      "400/400 [==============================] - 140s 351ms/step - loss: 0.2017 - accuracy: 0.9439 - val_loss: 0.8112 - val_accuracy: 0.8016\n",
      "Epoch 19/25\n",
      "400/400 [==============================] - 135s 338ms/step - loss: 0.1776 - accuracy: 0.9482 - val_loss: 0.7770 - val_accuracy: 0.8063\n",
      "Epoch 20/25\n",
      "400/400 [==============================] - 134s 335ms/step - loss: 0.1731 - accuracy: 0.9495 - val_loss: 0.7971 - val_accuracy: 0.7978\n",
      "Epoch 21/25\n",
      "400/400 [==============================] - 131s 327ms/step - loss: 0.1667 - accuracy: 0.9514 - val_loss: 0.6954 - val_accuracy: 0.8124\n",
      "Epoch 22/25\n",
      "400/400 [==============================] - 131s 328ms/step - loss: 0.1451 - accuracy: 0.9568 - val_loss: 0.9072 - val_accuracy: 0.7969\n",
      "Epoch 23/25\n",
      "400/400 [==============================] - 132s 330ms/step - loss: 0.1422 - accuracy: 0.9598 - val_loss: 0.8605 - val_accuracy: 0.8024\n",
      "Epoch 24/25\n",
      "400/400 [==============================] - 133s 332ms/step - loss: 0.1394 - accuracy: 0.9604 - val_loss: 0.7451 - val_accuracy: 0.8113\n",
      "Epoch 25/25\n",
      "400/400 [==============================] - 135s 336ms/step - loss: 0.1351 - accuracy: 0.9616 - val_loss: 0.7841 - val_accuracy: 0.8124\n"
     ]
    }
   ],
   "source": [
    "history_7 = model_7.fit(X_train, y_train_one_hot, batch_size = 100, epochs = 25, \n",
    "                 validation_split = 0.2)"
   ]
  },
  {
   "cell_type": "code",
   "execution_count": 344,
   "id": "7526adfe",
   "metadata": {
    "scrolled": false
   },
   "outputs": [
    {
     "name": "stdout",
     "output_type": "stream",
     "text": [
      "313/313 [==============================] - 7s 19ms/step - loss: 0.8053 - accuracy: 0.8087\n"
     ]
    },
    {
     "data": {
      "text/plain": [
       "0.8087000250816345"
      ]
     },
     "execution_count": 344,
     "metadata": {},
     "output_type": "execute_result"
    }
   ],
   "source": [
    "model_7.evaluate(X_test, y_test_one_hot)[1]"
   ]
  },
  {
   "cell_type": "code",
   "execution_count": 353,
   "id": "83911ff5",
   "metadata": {
    "scrolled": true
   },
   "outputs": [
    {
     "name": "stdout",
     "output_type": "stream",
     "text": [
      "              precision    recall  f1-score   support\n",
      "\n",
      "           0       0.81      0.85      0.83      1000\n",
      "           1       0.90      0.89      0.90      1000\n",
      "           2       0.78      0.75      0.77      1000\n",
      "           3       0.64      0.65      0.65      1000\n",
      "           4       0.83      0.77      0.80      1000\n",
      "           5       0.66      0.75      0.70      1000\n",
      "           6       0.93      0.81      0.86      1000\n",
      "           7       0.83      0.85      0.84      1000\n",
      "           8       0.81      0.94      0.87      1000\n",
      "           9       0.95      0.82      0.88      1000\n",
      "\n",
      "    accuracy                           0.81     10000\n",
      "   macro avg       0.81      0.81      0.81     10000\n",
      "weighted avg       0.81      0.81      0.81     10000\n",
      "\n"
     ]
    }
   ],
   "source": [
    "y_pred = model_7.predict(X_test)\n",
    "\n",
    "y_pred_classes = [np.argmax(object) for object in y_pred]\n",
    "\n",
    "print(classification_report(y_test,  y_pred_classes))"
   ]
  },
  {
   "cell_type": "code",
   "execution_count": 365,
   "id": "bd4f35c9",
   "metadata": {},
   "outputs": [],
   "source": [
    "class_dict = {0: \"airplane\",\n",
    "1: \"automobile\",\n",
    "2: \"bird\",\n",
    "3: \"cat\",\n",
    "4: \"deer\",\n",
    "5: \"dog\",\n",
    "6: \"frog\",\n",
    "7: \"horse\",\n",
    "8: \"ship\",\n",
    "9: \"truck\"}"
   ]
  },
  {
   "cell_type": "code",
   "execution_count": 356,
   "id": "8ecd1976",
   "metadata": {
    "scrolled": true
   },
   "outputs": [
    {
     "name": "stderr",
     "output_type": "stream",
     "text": [
      "/Users/rahulraju/opt/anaconda3/envs/metis/lib/python3.8/site-packages/tensorflow/python/keras/engine/sequential.py:455: UserWarning: `model.predict_classes()` is deprecated and will be removed after 2021-01-01. Please use instead:* `np.argmax(model.predict(x), axis=-1)`,   if your model does multi-class classification   (e.g. if it uses a `softmax` last-layer activation).* `(model.predict(x) > 0.5).astype(\"int32\")`,   if your model does binary classification   (e.g. if it uses a `sigmoid` last-layer activation).\n",
      "  warnings.warn('`model.predict_classes()` is deprecated and '\n"
     ]
    }
   ],
   "source": [
    "model_confusion_matrix = confusion_matrix(y_test, model_7.predict_classes(X_test))"
   ]
  },
  {
   "cell_type": "code",
   "execution_count": 385,
   "id": "d2749f9f",
   "metadata": {
    "scrolled": true
   },
   "outputs": [
    {
     "data": {
      "image/png": "[encoded data removed]",
      "text/plain": [
       "<Figure size 432x288 with 2 Axes>"
      ]
     },
     "metadata": {
      "needs_background": "light"
     },
     "output_type": "display_data"
    }
   ],
   "source": [
    "sns.heatmap(model_confusion_matrix, cmap=plt.cm.Blues, annot=True, square=True, fmt='d')\n",
    "           #xticklabels = [classes], yticklabels=[classes])\n",
    "\n",
    "plt.title(\"Final Model's Confusion Matrix\")    \n",
    "    \n",
    "plt.xlabel('Predicted')\n",
    "plt.ylabel('Actual')\n",
    "\n",
    "tick_marks = np.arange(len(classes))\n",
    "plt.xticks(tick_marks, classes, rotation=60);\n",
    "plt.yticks(tick_marks, classes, rotation = 360);"
   ]
  },
  {
   "cell_type": "code",
   "execution_count": 426,
   "id": "d8cf8e76",
   "metadata": {},
   "outputs": [
    {
     "data": {
      "text/plain": [
       "<matplotlib.legend.Legend at 0x7f92d9cf89d0>"
      ]
     },
     "execution_count": 426,
     "metadata": {},
     "output_type": "execute_result"
    },
    {
     "data": {
      "image/png": "[encoded data removed]",
      "text/plain": [
       "<Figure size 432x288 with 1 Axes>"
      ]
     },
     "metadata": {
      "needs_background": "light"
     },
     "output_type": "display_data"
    }
   ],
   "source": [
    "plt.plot(history_7.history['accuracy'])\n",
    "plt.plot(history_7.history['val_accuracy'])\n",
    "\n",
    "plt.title('Accuracy vs. Training Epoch')\n",
    "plt.xlabel('Epoch')\n",
    "plt.ylabel('Accuracy')\n",
    "plt.legend(['Train','Validation'])"
   ]
  },
  {
   "cell_type": "code",
   "execution_count": 362,
   "id": "43959e25",
   "metadata": {},
   "outputs": [
    {
     "data": {
      "text/plain": [
       "['aeroplane',\n",
       " 'automobile',\n",
       " 'bird',\n",
       " 'cat',\n",
       " 'deer',\n",
       " 'dog',\n",
       " 'frog',\n",
       " 'horse',\n",
       " 'ship',\n",
       " 'truck']"
      ]
     },
     "execution_count": 362,
     "metadata": {},
     "output_type": "execute_result"
    }
   ],
   "source": [
    "classes"
   ]
  },
  {
   "cell_type": "markdown",
   "id": "3bc5597d",
   "metadata": {},
   "source": [
    "### Model 7: Transfer Learning with MobileNet Version 1 - Frozen Base\n",
    "#### - 3 layers(500,250,125 nodes respectively)\n",
    "#### - Dropout after each dense layer(0.3,0.2,0.1)"
   ]
  },
  {
   "cell_type": "code",
   "execution_count": 347,
   "id": "03fac724",
   "metadata": {},
   "outputs": [
    {
     "name": "stdout",
     "output_type": "stream",
     "text": [
      "WARNING:tensorflow:`input_shape` is undefined or non-square, or `rows` is not in [128, 160, 192, 224]. Weights for input shape (224, 224) will be loaded as the default.\n"
     ]
    }
   ],
   "source": [
    "base_model_8 = MobileNet(weights='imagenet', include_top=False, input_shape=(32,32,3), classes=y_train.shape[1]) \n",
    "\n",
    "\n",
    "for layer in base_model_8.layers:\n",
    "    layer.trainable = False\n",
    "\n",
    "\n",
    "model_8 = Sequential()\n",
    "\n",
    "model_8.add(base_model_8)\n",
    "model_8.add(Dropout(0.4))\n",
    "model_8.add(Flatten())\n",
    "\n",
    "model_8.add(Dense(512, activation=('relu')))\n",
    "\n",
    "model_8.add(Dense(256,activation=('relu')))\n",
    "\n",
    "model_8.add(Dropout(.3))\n",
    "\n",
    "model_8.add(Dense(128,activation=('relu'))) \n",
    "\n",
    "model_8.add(Dropout(.2))\n",
    "\n",
    "model_8.add(Dense(64, activation=('relu')))\n",
    "\n",
    "model_8.add(Dropout(.10))\n",
    "\n",
    "model_8.add(Dense(10,activation=('softmax')))\n"
   ]
  },
  {
   "cell_type": "code",
   "execution_count": 348,
   "id": "fa8f7be6",
   "metadata": {},
   "outputs": [],
   "source": [
    "model_8.compile(loss = 'categorical_crossentropy', optimizer = 'adam',\n",
    "              metrics = ['accuracy'])"
   ]
  },
  {
   "cell_type": "code",
   "execution_count": 349,
   "id": "9b25fe5e",
   "metadata": {},
   "outputs": [
    {
     "name": "stdout",
     "output_type": "stream",
     "text": [
      "Epoch 1/25\n",
      "400/400 [==============================] - 21s 47ms/step - loss: 2.2629 - accuracy: 0.1487 - val_loss: 2.2426 - val_accuracy: 0.1674\n",
      "Epoch 2/25\n",
      "400/400 [==============================] - 18s 45ms/step - loss: 2.2398 - accuracy: 0.1672 - val_loss: 2.2178 - val_accuracy: 0.1830\n",
      "Epoch 3/25\n",
      "400/400 [==============================] - 18s 46ms/step - loss: 2.2305 - accuracy: 0.1729 - val_loss: 2.2282 - val_accuracy: 0.1699\n",
      "Epoch 4/25\n",
      "400/400 [==============================] - 20s 50ms/step - loss: 2.2248 - accuracy: 0.1768 - val_loss: 2.2275 - val_accuracy: 0.1907\n",
      "Epoch 5/25\n",
      "400/400 [==============================] - 23s 58ms/step - loss: 2.2230 - accuracy: 0.1769 - val_loss: 2.2309 - val_accuracy: 0.1778\n",
      "Epoch 6/25\n",
      "400/400 [==============================] - 21s 52ms/step - loss: 2.2250 - accuracy: 0.1775 - val_loss: 2.2199 - val_accuracy: 0.1879\n",
      "Epoch 7/25\n",
      "400/400 [==============================] - 20s 51ms/step - loss: 2.2211 - accuracy: 0.1809 - val_loss: 2.2276 - val_accuracy: 0.1845\n",
      "Epoch 8/25\n",
      "400/400 [==============================] - 20s 49ms/step - loss: 2.2183 - accuracy: 0.1808 - val_loss: 2.2187 - val_accuracy: 0.1749\n",
      "Epoch 9/25\n",
      "400/400 [==============================] - 20s 49ms/step - loss: 2.2162 - accuracy: 0.1813 - val_loss: 2.1947 - val_accuracy: 0.1872\n",
      "Epoch 10/25\n",
      "400/400 [==============================] - 20s 49ms/step - loss: 2.2176 - accuracy: 0.1789 - val_loss: 2.2031 - val_accuracy: 0.1973\n",
      "Epoch 11/25\n",
      "400/400 [==============================] - 20s 49ms/step - loss: 2.2160 - accuracy: 0.1811 - val_loss: 2.2088 - val_accuracy: 0.1823\n",
      "Epoch 12/25\n",
      "400/400 [==============================] - 20s 49ms/step - loss: 2.2170 - accuracy: 0.1782 - val_loss: 2.2280 - val_accuracy: 0.1695\n",
      "Epoch 13/25\n",
      "400/400 [==============================] - 20s 49ms/step - loss: 2.2122 - accuracy: 0.1832 - val_loss: 2.1964 - val_accuracy: 0.1908\n",
      "Epoch 14/25\n",
      "400/400 [==============================] - 20s 49ms/step - loss: 2.2124 - accuracy: 0.1823 - val_loss: 2.1857 - val_accuracy: 0.1975\n",
      "Epoch 15/25\n",
      "400/400 [==============================] - 20s 49ms/step - loss: 2.2105 - accuracy: 0.1837 - val_loss: 2.2143 - val_accuracy: 0.1879\n",
      "Epoch 16/25\n",
      "400/400 [==============================] - 20s 49ms/step - loss: 2.2123 - accuracy: 0.1812 - val_loss: 2.2126 - val_accuracy: 0.1777\n",
      "Epoch 17/25\n",
      "400/400 [==============================] - 20s 49ms/step - loss: 2.2118 - accuracy: 0.1820 - val_loss: 2.2049 - val_accuracy: 0.1916\n",
      "Epoch 18/25\n",
      "400/400 [==============================] - 20s 49ms/step - loss: 2.2090 - accuracy: 0.1844 - val_loss: 2.2084 - val_accuracy: 0.1863\n",
      "Epoch 19/25\n",
      "400/400 [==============================] - 20s 51ms/step - loss: 2.2110 - accuracy: 0.1846 - val_loss: 2.2251 - val_accuracy: 0.1766\n",
      "Epoch 20/25\n",
      "400/400 [==============================] - 22s 54ms/step - loss: 2.2068 - accuracy: 0.1854 - val_loss: 2.2121 - val_accuracy: 0.1784\n",
      "Epoch 21/25\n",
      "400/400 [==============================] - 20s 50ms/step - loss: 2.2086 - accuracy: 0.1830 - val_loss: 2.2112 - val_accuracy: 0.1865\n",
      "Epoch 22/25\n",
      "400/400 [==============================] - 19s 48ms/step - loss: 2.2074 - accuracy: 0.1837 - val_loss: 2.2137 - val_accuracy: 0.1911\n",
      "Epoch 23/25\n",
      "400/400 [==============================] - 19s 49ms/step - loss: 2.2069 - accuracy: 0.1839 - val_loss: 2.2174 - val_accuracy: 0.1806\n",
      "Epoch 24/25\n",
      "400/400 [==============================] - 19s 48ms/step - loss: 2.2076 - accuracy: 0.1843 - val_loss: 2.2145 - val_accuracy: 0.1731\n",
      "Epoch 25/25\n",
      "400/400 [==============================] - 20s 49ms/step - loss: 2.2084 - accuracy: 0.1826 - val_loss: 2.2030 - val_accuracy: 0.1844\n"
     ]
    }
   ],
   "source": [
    "history_8 = model_8.fit(X_train, y_train_one_hot, batch_size = 100, epochs = 25, \n",
    "                 validation_split = 0.2)"
   ]
  },
  {
   "cell_type": "code",
   "execution_count": 350,
   "id": "36723822",
   "metadata": {},
   "outputs": [
    {
     "name": "stdout",
     "output_type": "stream",
     "text": [
      "313/313 [==============================] - 7s 18ms/step - loss: 2.2060 - accuracy: 0.1881\n"
     ]
    },
    {
     "data": {
      "text/plain": [
       "0.18809999525547028"
      ]
     },
     "execution_count": 350,
     "metadata": {},
     "output_type": "execute_result"
    }
   ],
   "source": [
    "model_8.evaluate(X_test, y_test_one_hot)[1]"
   ]
  },
  {
   "cell_type": "markdown",
   "id": "c11f8e8a",
   "metadata": {},
   "source": [
    "## DASHBOARD"
   ]
  },
  {
   "cell_type": "code",
   "execution_count": 17,
   "id": "23b928b3",
   "metadata": {},
   "outputs": [],
   "source": [
    "dashboard_image_1 = image.load_img('./pexels-mike-132774.jpg', target_size=(32,32))"
   ]
  },
  {
   "cell_type": "code",
   "execution_count": 19,
   "id": "845dc873",
   "metadata": {
    "scrolled": true
   },
   "outputs": [
    {
     "data": {
      "image/png": "[encoded data removed]",
      "text/plain": [
       "<PIL.Image.Image image mode=RGB size=32x32 at 0x7FCFBEAFE310>"
      ]
     },
     "execution_count": 19,
     "metadata": {},
     "output_type": "execute_result"
    },
    {
     "data": {
      "text/plain": [
       "<Figure size 1440x144 with 0 Axes>"
      ]
     },
     "metadata": {},
     "output_type": "display_data"
    }
   ],
   "source": [
    "plt.figure(figsize = (20,2))\n",
    "dashboard_image_1 "
   ]
  },
  {
   "cell_type": "code",
   "execution_count": 14,
   "id": "76df7b0a",
   "metadata": {},
   "outputs": [
    {
     "data": {
      "image/png": "[encoded data removed]",
      "text/plain": [
       "<PIL.Image.Image image mode=RGB size=32x32 at 0x7FCFD02045E0>"
      ]
     },
     "execution_count": 14,
     "metadata": {},
     "output_type": "execute_result"
    }
   ],
   "source": [
    "dashboard_image_2 = image.load_img('pexels-jonathan-petersson-995232.jpg', target_size=(32,32))\n",
    "dashboard_image_2"
   ]
  },
  {
   "cell_type": "code",
   "execution_count": 417,
   "id": "6f7f6f05",
   "metadata": {
    "scrolled": true
   },
   "outputs": [
    {
     "data": {
      "text/plain": [
       "array([[3.96965333e-05, 1.05754443e-05, 1.17707496e-04, 8.50189328e-01,\n",
       "        2.37899061e-04, 1.49121255e-01, 8.60456275e-05, 1.76979156e-04,\n",
       "        7.14014095e-06, 1.34834027e-05],\n",
       "       [2.96556557e-09, 4.50969129e-09, 2.50988060e-14, 5.87116402e-13,\n",
       "        1.28083108e-11, 1.15327334e-16, 8.85410408e-12, 2.08148338e-17,\n",
       "        1.00000000e+00, 7.41410128e-11],\n",
       "       [4.58547671e-04, 1.13043636e-02, 4.10845278e-05, 6.04704022e-04,\n",
       "        2.10431739e-04, 2.73827136e-05, 4.72057989e-04, 1.13033648e-05,\n",
       "        9.84278023e-01, 2.59210216e-03],\n",
       "       [4.75912311e-05, 5.42256530e-05, 2.37429117e-06, 2.59989774e-05,\n",
       "        8.09947505e-06, 2.45592958e-07, 1.00751067e-05, 4.35865957e-08,\n",
       "        9.99840498e-01, 1.08879713e-05],\n",
       "       [7.07188214e-12, 1.78090354e-09, 3.32197601e-07, 1.30494664e-05,\n",
       "        2.05287982e-08, 8.79611690e-08, 9.99986529e-01, 3.84480371e-13,\n",
       "        1.46131512e-12, 1.45337797e-10]], dtype=float32)"
      ]
     },
     "execution_count": 417,
     "metadata": {},
     "output_type": "execute_result"
    }
   ],
   "source": [
    "\n",
    "test_image =image.img_to_array(dashboard_image_1) \n",
    "test_image =np.expand_dims(test_image, axis =0) \n",
    "\n",
    "result = model_7.predict(X_test) \n",
    "result[:5]"
   ]
  },
  {
   "cell_type": "code",
   "execution_count": 425,
   "id": "64648003",
   "metadata": {},
   "outputs": [
    {
     "data": {
      "text/plain": [
       "[3,\n",
       " 8,\n",
       " 8,\n",
       " 8,\n",
       " 6,\n",
       " 6,\n",
       " 1,\n",
       " 6,\n",
       " 3,\n",
       " 1,\n",
       " 0,\n",
       " 9,\n",
       " 5,\n",
       " 7,\n",
       " 9,\n",
       " 8,\n",
       " 5,\n",
       " 7,\n",
       " 8,\n",
       " 6,\n",
       " 7,\n",
       " 2,\n",
       " 4,\n",
       " 9,\n",
       " 4,\n",
       " 2,\n",
       " 4,\n",
       " 0,\n",
       " 9,\n",
       " 6,\n",
       " 6,\n",
       " 5,\n",
       " 4,\n",
       " 3,\n",
       " 9,\n",
       " 8,\n",
       " 4,\n",
       " 1,\n",
       " 9,\n",
       " 5,\n",
       " 4,\n",
       " 6,\n",
       " 3,\n",
       " 6,\n",
       " 0,\n",
       " 9,\n",
       " 3,\n",
       " 8,\n",
       " 7,\n",
       " 2,\n",
       " 9,\n",
       " 8,\n",
       " 7,\n",
       " 3,\n",
       " 8,\n",
       " 8,\n",
       " 7,\n",
       " 3,\n",
       " 5,\n",
       " 3,\n",
       " 7,\n",
       " 5,\n",
       " 2,\n",
       " 3,\n",
       " 5,\n",
       " 4,\n",
       " 1,\n",
       " 2,\n",
       " 5,\n",
       " 7,\n",
       " 2,\n",
       " 6,\n",
       " 8,\n",
       " 8,\n",
       " 0,\n",
       " 2,\n",
       " 0,\n",
       " 3,\n",
       " 5,\n",
       " 8,\n",
       " 8,\n",
       " 8,\n",
       " 1,\n",
       " 7,\n",
       " 2,\n",
       " 5,\n",
       " 5,\n",
       " 3,\n",
       " 8,\n",
       " 9,\n",
       " 0,\n",
       " 3,\n",
       " 8,\n",
       " 6,\n",
       " 4,\n",
       " 6,\n",
       " 6,\n",
       " 2,\n",
       " 0,\n",
       " 7,\n",
       " 4,\n",
       " 5,\n",
       " 6,\n",
       " 3,\n",
       " 1,\n",
       " 1,\n",
       " 5,\n",
       " 6,\n",
       " 8,\n",
       " 7,\n",
       " 4,\n",
       " 0,\n",
       " 2,\n",
       " 2,\n",
       " 1,\n",
       " 3,\n",
       " 0,\n",
       " 4,\n",
       " 2,\n",
       " 7,\n",
       " 8,\n",
       " 3,\n",
       " 1,\n",
       " 2,\n",
       " 8,\n",
       " 2,\n",
       " 8,\n",
       " 3,\n",
       " 3,\n",
       " 2,\n",
       " 4,\n",
       " 1,\n",
       " 8,\n",
       " 9,\n",
       " 1,\n",
       " 2,\n",
       " 9,\n",
       " 7,\n",
       " 2,\n",
       " 8,\n",
       " 6,\n",
       " 5,\n",
       " 6,\n",
       " 5,\n",
       " 8,\n",
       " 0,\n",
       " 6,\n",
       " 5,\n",
       " 3,\n",
       " 2,\n",
       " 8,\n",
       " 9,\n",
       " 6,\n",
       " 0,\n",
       " 0,\n",
       " 5,\n",
       " 2,\n",
       " 9,\n",
       " 3,\n",
       " 4,\n",
       " 2,\n",
       " 1,\n",
       " 3,\n",
       " 6,\n",
       " 8,\n",
       " 2,\n",
       " 8,\n",
       " 0,\n",
       " 5,\n",
       " 0,\n",
       " 9,\n",
       " 6,\n",
       " 9,\n",
       " 8,\n",
       " 9,\n",
       " 9,\n",
       " 3,\n",
       " 7,\n",
       " 5,\n",
       " 0,\n",
       " 0,\n",
       " 5,\n",
       " 2,\n",
       " 2,\n",
       " 3,\n",
       " 8,\n",
       " 6,\n",
       " 3,\n",
       " 2,\n",
       " 0,\n",
       " 5,\n",
       " 8,\n",
       " 0,\n",
       " 1,\n",
       " 7,\n",
       " 2,\n",
       " 8,\n",
       " 8,\n",
       " 7,\n",
       " 8,\n",
       " 5,\n",
       " 8,\n",
       " 8,\n",
       " 7,\n",
       " 1,\n",
       " 3,\n",
       " 0,\n",
       " 5,\n",
       " 7,\n",
       " 9,\n",
       " 3,\n",
       " 8,\n",
       " 5,\n",
       " 9,\n",
       " 8,\n",
       " 0,\n",
       " 7,\n",
       " 9,\n",
       " 8,\n",
       " 2,\n",
       " 7,\n",
       " 3,\n",
       " 9,\n",
       " 5,\n",
       " 3,\n",
       " 9,\n",
       " 3,\n",
       " 4,\n",
       " 5,\n",
       " 5,\n",
       " 5,\n",
       " 1,\n",
       " 5,\n",
       " 8,\n",
       " 8,\n",
       " 0,\n",
       " 4,\n",
       " 9,\n",
       " 5,\n",
       " 5,\n",
       " 1,\n",
       " 1,\n",
       " 8,\n",
       " 9,\n",
       " 0,\n",
       " 3,\n",
       " 1,\n",
       " 8,\n",
       " 2,\n",
       " 2,\n",
       " 5,\n",
       " 3,\n",
       " 9,\n",
       " 9,\n",
       " 2,\n",
       " 0,\n",
       " 3,\n",
       " 0,\n",
       " 8,\n",
       " 9,\n",
       " 8,\n",
       " 1,\n",
       " 3,\n",
       " 7,\n",
       " 8,\n",
       " 8,\n",
       " 2,\n",
       " 4,\n",
       " 7,\n",
       " 0,\n",
       " 2,\n",
       " 3,\n",
       " 6,\n",
       " 3,\n",
       " 8,\n",
       " 5,\n",
       " 0,\n",
       " 2,\n",
       " 5,\n",
       " 3,\n",
       " 9,\n",
       " 8,\n",
       " 6,\n",
       " 1,\n",
       " 9,\n",
       " 9,\n",
       " 1,\n",
       " 0,\n",
       " 7,\n",
       " 9,\n",
       " 1,\n",
       " 2,\n",
       " 6,\n",
       " 9,\n",
       " 3,\n",
       " 4,\n",
       " 6,\n",
       " 0,\n",
       " 0,\n",
       " 6,\n",
       " 6,\n",
       " 6,\n",
       " 3,\n",
       " 2,\n",
       " 6,\n",
       " 1,\n",
       " 8,\n",
       " 2,\n",
       " 1,\n",
       " 2,\n",
       " 8,\n",
       " 6,\n",
       " 0,\n",
       " 0,\n",
       " 4,\n",
       " 0,\n",
       " 7,\n",
       " 7,\n",
       " 5,\n",
       " 5,\n",
       " 3,\n",
       " 5,\n",
       " 2,\n",
       " 3,\n",
       " 7,\n",
       " 1,\n",
       " 7,\n",
       " 5,\n",
       " 4,\n",
       " 6,\n",
       " 1,\n",
       " 9,\n",
       " 5,\n",
       " 6,\n",
       " 6,\n",
       " 9,\n",
       " 3,\n",
       " 8,\n",
       " 0,\n",
       " 7,\n",
       " 2,\n",
       " 6,\n",
       " 2,\n",
       " 5,\n",
       " 8,\n",
       " 3,\n",
       " 4,\n",
       " 6,\n",
       " 8,\n",
       " 9,\n",
       " 9,\n",
       " 1,\n",
       " 0,\n",
       " 2,\n",
       " 2,\n",
       " 7,\n",
       " 5,\n",
       " 2,\n",
       " 8,\n",
       " 0,\n",
       " 9,\n",
       " 5,\n",
       " 8,\n",
       " 1,\n",
       " 9,\n",
       " 4,\n",
       " 0,\n",
       " 3,\n",
       " 4,\n",
       " 1,\n",
       " 2,\n",
       " 7,\n",
       " 9,\n",
       " 4,\n",
       " 2,\n",
       " 7,\n",
       " 9,\n",
       " 7,\n",
       " 8,\n",
       " 6,\n",
       " 6,\n",
       " 9,\n",
       " 0,\n",
       " 9,\n",
       " 5,\n",
       " 8,\n",
       " 7,\n",
       " 2,\n",
       " 2,\n",
       " 5,\n",
       " 1,\n",
       " 2,\n",
       " 6,\n",
       " 2,\n",
       " 9,\n",
       " 6,\n",
       " 2,\n",
       " 3,\n",
       " 0,\n",
       " 3,\n",
       " 9,\n",
       " 8,\n",
       " 7,\n",
       " 8,\n",
       " 8,\n",
       " 4,\n",
       " 0,\n",
       " 1,\n",
       " 8,\n",
       " 2,\n",
       " 5,\n",
       " 9,\n",
       " 2,\n",
       " 6,\n",
       " 9,\n",
       " 9,\n",
       " 3,\n",
       " 7,\n",
       " 5,\n",
       " 7,\n",
       " 4,\n",
       " 5,\n",
       " 8,\n",
       " 3,\n",
       " 2,\n",
       " 9,\n",
       " 3,\n",
       " 7,\n",
       " 0,\n",
       " 6,\n",
       " 4,\n",
       " 5,\n",
       " 3,\n",
       " 7,\n",
       " 5,\n",
       " 7,\n",
       " 2,\n",
       " 5,\n",
       " 3,\n",
       " 1,\n",
       " 1,\n",
       " 2,\n",
       " 9,\n",
       " 8,\n",
       " 5,\n",
       " 7,\n",
       " 5,\n",
       " 0,\n",
       " 2,\n",
       " 2,\n",
       " 2,\n",
       " 9,\n",
       " 7,\n",
       " 3,\n",
       " 9,\n",
       " 2,\n",
       " 4,\n",
       " 5,\n",
       " 3,\n",
       " 8,\n",
       " 5,\n",
       " 6,\n",
       " 1,\n",
       " 5,\n",
       " 3,\n",
       " 4,\n",
       " 4,\n",
       " 3,\n",
       " 5,\n",
       " 8,\n",
       " 3,\n",
       " 7,\n",
       " 8,\n",
       " 8,\n",
       " 5,\n",
       " 7,\n",
       " 6,\n",
       " 8,\n",
       " 5,\n",
       " 4,\n",
       " 8,\n",
       " 6,\n",
       " 8,\n",
       " 5,\n",
       " 5,\n",
       " 0,\n",
       " 9,\n",
       " 9,\n",
       " 4,\n",
       " 0,\n",
       " 1,\n",
       " 0,\n",
       " 8,\n",
       " 1,\n",
       " 1,\n",
       " 8,\n",
       " 0,\n",
       " 5,\n",
       " 2,\n",
       " 0,\n",
       " 4,\n",
       " 6,\n",
       " 5,\n",
       " 4,\n",
       " 9,\n",
       " 4,\n",
       " 7,\n",
       " 9,\n",
       " 9,\n",
       " 4,\n",
       " 5,\n",
       " 6,\n",
       " 6,\n",
       " 1,\n",
       " 5,\n",
       " 3,\n",
       " 8,\n",
       " 9,\n",
       " 3,\n",
       " 8,\n",
       " 5,\n",
       " 7,\n",
       " 0,\n",
       " 7,\n",
       " 0,\n",
       " 7,\n",
       " 8,\n",
       " 0,\n",
       " 4,\n",
       " 6,\n",
       " 9,\n",
       " 8,\n",
       " 1,\n",
       " 5,\n",
       " 6,\n",
       " 6,\n",
       " 6,\n",
       " 2,\n",
       " 9,\n",
       " 9,\n",
       " 1,\n",
       " 7,\n",
       " 6,\n",
       " 7,\n",
       " 5,\n",
       " 9,\n",
       " 1,\n",
       " 6,\n",
       " 2,\n",
       " 3,\n",
       " 5,\n",
       " 3,\n",
       " 8,\n",
       " 5,\n",
       " 9,\n",
       " 4,\n",
       " 6,\n",
       " 4,\n",
       " 3,\n",
       " 2,\n",
       " 0,\n",
       " 7,\n",
       " 6,\n",
       " 2,\n",
       " 2,\n",
       " 3,\n",
       " 9,\n",
       " 3,\n",
       " 9,\n",
       " 2,\n",
       " 6,\n",
       " 7,\n",
       " 1,\n",
       " 3,\n",
       " 6,\n",
       " 6,\n",
       " 8,\n",
       " 9,\n",
       " 7,\n",
       " 2,\n",
       " 4,\n",
       " 0,\n",
       " 8,\n",
       " 7,\n",
       " 0,\n",
       " 9,\n",
       " 3,\n",
       " 4,\n",
       " 8,\n",
       " 9,\n",
       " 6,\n",
       " 9,\n",
       " 2,\n",
       " 6,\n",
       " 1,\n",
       " 4,\n",
       " 7,\n",
       " 5,\n",
       " 5,\n",
       " 3,\n",
       " 8,\n",
       " 5,\n",
       " 0,\n",
       " 2,\n",
       " 1,\n",
       " 6,\n",
       " 4,\n",
       " 5,\n",
       " 5,\n",
       " 9,\n",
       " 6,\n",
       " 9,\n",
       " 8,\n",
       " 8,\n",
       " 5,\n",
       " 8,\n",
       " 6,\n",
       " 3,\n",
       " 2,\n",
       " 1,\n",
       " 7,\n",
       " 7,\n",
       " 1,\n",
       " 5,\n",
       " 7,\n",
       " 9,\n",
       " 9,\n",
       " 4,\n",
       " 4,\n",
       " 1,\n",
       " 0,\n",
       " 5,\n",
       " 6,\n",
       " 8,\n",
       " 7,\n",
       " 6,\n",
       " 8,\n",
       " 3,\n",
       " 0,\n",
       " 3,\n",
       " 5,\n",
       " 6,\n",
       " 0,\n",
       " 7,\n",
       " 9,\n",
       " 1,\n",
       " 3,\n",
       " 7,\n",
       " 4,\n",
       " 5,\n",
       " 3,\n",
       " 9,\n",
       " 5,\n",
       " 6,\n",
       " 9,\n",
       " 2,\n",
       " 1,\n",
       " 1,\n",
       " 4,\n",
       " 1,\n",
       " 9,\n",
       " 4,\n",
       " 7,\n",
       " 6,\n",
       " 3,\n",
       " 0,\n",
       " 9,\n",
       " 0,\n",
       " 1,\n",
       " 5,\n",
       " 6,\n",
       " 3,\n",
       " 2,\n",
       " 3,\n",
       " 2,\n",
       " 0,\n",
       " 3,\n",
       " 1,\n",
       " 0,\n",
       " 3,\n",
       " 1,\n",
       " 6,\n",
       " 3,\n",
       " 0,\n",
       " 9,\n",
       " 0,\n",
       " 9,\n",
       " 2,\n",
       " 3,\n",
       " 0,\n",
       " 3,\n",
       " 2,\n",
       " 0,\n",
       " 7,\n",
       " 8,\n",
       " 3,\n",
       " 8,\n",
       " 2,\n",
       " 7,\n",
       " 5,\n",
       " 7,\n",
       " 2,\n",
       " 4,\n",
       " 8,\n",
       " 7,\n",
       " 4,\n",
       " 2,\n",
       " 9,\n",
       " 8,\n",
       " 8,\n",
       " 6,\n",
       " 8,\n",
       " 8,\n",
       " 7,\n",
       " 4,\n",
       " 3,\n",
       " 3,\n",
       " 8,\n",
       " 4,\n",
       " 9,\n",
       " 4,\n",
       " 8,\n",
       " 8,\n",
       " 1,\n",
       " 8,\n",
       " 8,\n",
       " 1,\n",
       " 5,\n",
       " 6,\n",
       " 5,\n",
       " 7,\n",
       " 0,\n",
       " 7,\n",
       " 9,\n",
       " 1,\n",
       " 2,\n",
       " 1,\n",
       " 4,\n",
       " 1,\n",
       " 5,\n",
       " 2,\n",
       " 7,\n",
       " 0,\n",
       " 7,\n",
       " 8,\n",
       " 7,\n",
       " 2,\n",
       " 6,\n",
       " 2,\n",
       " 5,\n",
       " 9,\n",
       " 2,\n",
       " 8,\n",
       " 1,\n",
       " 2,\n",
       " 2,\n",
       " 6,\n",
       " 8,\n",
       " 2,\n",
       " 1,\n",
       " 3,\n",
       " 4,\n",
       " 6,\n",
       " 0,\n",
       " 1,\n",
       " 2,\n",
       " 4,\n",
       " 7,\n",
       " 5,\n",
       " 4,\n",
       " 3,\n",
       " 1,\n",
       " 6,\n",
       " 4,\n",
       " 0,\n",
       " 3,\n",
       " 5,\n",
       " 6,\n",
       " 0,\n",
       " 5,\n",
       " 9,\n",
       " 1,\n",
       " 7,\n",
       " 6,\n",
       " 7,\n",
       " 0,\n",
       " 3,\n",
       " 0,\n",
       " 6,\n",
       " 8,\n",
       " 0,\n",
       " 0,\n",
       " 5,\n",
       " 4,\n",
       " 7,\n",
       " 7,\n",
       " 1,\n",
       " 4,\n",
       " 7,\n",
       " 2,\n",
       " 7,\n",
       " 1,\n",
       " 4,\n",
       " 7,\n",
       " 4,\n",
       " 4,\n",
       " 8,\n",
       " 4,\n",
       " 2,\n",
       " 7,\n",
       " 3,\n",
       " 5,\n",
       " 7,\n",
       " 2,\n",
       " 0,\n",
       " 8,\n",
       " 9,\n",
       " 3,\n",
       " 8,\n",
       " 3,\n",
       " 6,\n",
       " 7,\n",
       " 8,\n",
       " 8,\n",
       " 7,\n",
       " 3,\n",
       " 7,\n",
       " 6,\n",
       " 5,\n",
       " 3,\n",
       " 0,\n",
       " 8,\n",
       " 2,\n",
       " 5,\n",
       " 5,\n",
       " 5,\n",
       " 1,\n",
       " 2,\n",
       " 9,\n",
       " 2,\n",
       " 7,\n",
       " 0,\n",
       " 7,\n",
       " 2,\n",
       " 1,\n",
       " 3,\n",
       " 2,\n",
       " 0,\n",
       " 2,\n",
       " 4,\n",
       " 5,\n",
       " 9,\n",
       " 8,\n",
       " 1,\n",
       " 0,\n",
       " 7,\n",
       " 7,\n",
       " 0,\n",
       " 7,\n",
       " 8,\n",
       " 4,\n",
       " 6,\n",
       " 3,\n",
       " 3,\n",
       " 0,\n",
       " 1,\n",
       " 5,\n",
       " 7,\n",
       " 0,\n",
       " 1,\n",
       " 3,\n",
       " 1,\n",
       " 4,\n",
       " 2,\n",
       " 3,\n",
       " 8,\n",
       " 4,\n",
       " 2,\n",
       " 2,\n",
       " 7,\n",
       " 8,\n",
       " 4,\n",
       " 0,\n",
       " 0,\n",
       " 9,\n",
       " 8,\n",
       " 8,\n",
       " 8,\n",
       " 8,\n",
       " 6,\n",
       " 4,\n",
       " 6,\n",
       " 7,\n",
       " 7,\n",
       " 1,\n",
       " 1,\n",
       " 3,\n",
       " 7,\n",
       " 3,\n",
       " 5,\n",
       " 2,\n",
       " 6,\n",
       " 6,\n",
       " 5,\n",
       " 8,\n",
       " 7,\n",
       " 1,\n",
       " 6,\n",
       " 8,\n",
       " 8,\n",
       " 5,\n",
       " 3,\n",
       " 3,\n",
       " 4,\n",
       " 0,\n",
       " 1,\n",
       " 3,\n",
       " 8,\n",
       " 8,\n",
       " 0,\n",
       " 0,\n",
       " 9,\n",
       " 9,\n",
       " 9,\n",
       " 5,\n",
       " 3,\n",
       " 8,\n",
       " 6,\n",
       " 0,\n",
       " 8,\n",
       " 4,\n",
       " 2,\n",
       " 3,\n",
       " 5,\n",
       " 7,\n",
       " 5,\n",
       " 2,\n",
       " 5,\n",
       " 8,\n",
       " 8,\n",
       " 9,\n",
       " 1,\n",
       " 7,\n",
       " 4,\n",
       " 0,\n",
       " 3,\n",
       " 0,\n",
       " 1,\n",
       " 8,\n",
       " 8,\n",
       " 3,\n",
       " 9,\n",
       " 2,\n",
       " 1,\n",
       " 4,\n",
       " 7,\n",
       " 0,\n",
       " 5,\n",
       " 7,\n",
       " 8,\n",
       " 9,\n",
       " 8,\n",
       " 1,\n",
       " 6,\n",
       " 6,\n",
       " 0,\n",
       " 3,\n",
       " 9,\n",
       " 1,\n",
       " 9,\n",
       " 9,\n",
       " 4,\n",
       " 5,\n",
       " 1,\n",
       " 0,\n",
       " 0,\n",
       " 6,\n",
       " 8,\n",
       " 1,\n",
       " 9,\n",
       " 2,\n",
       " 9,\n",
       " 7,\n",
       " 4,\n",
       " 7,\n",
       " 8,\n",
       " 3,\n",
       " 1,\n",
       " 2,\n",
       " 0,\n",
       " 1,\n",
       " 5,\n",
       " 8,\n",
       " 7,\n",
       " 3,\n",
       " 5,\n",
       " 0,\n",
       " 1,\n",
       " 3,\n",
       " 8,\n",
       " ...]"
      ]
     },
     "execution_count": 425,
     "metadata": {},
     "output_type": "execute_result"
    }
   ],
   "source": [
    "y_classes = [np.argmax(element) for element in result]\n",
    "y_classes"
   ]
  },
  {
   "cell_type": "code",
   "execution_count": 424,
   "id": "b5cdb7ae",
   "metadata": {
    "scrolled": false
   },
   "outputs": [
    {
     "data": {
      "text/plain": [
       "array([[7],\n",
       "       [0],\n",
       "       [4],\n",
       "       [9],\n",
       "       [5],\n",
       "       [2],\n",
       "       [4],\n",
       "       [0],\n",
       "       [9],\n",
       "       [6]], dtype=uint8)"
      ]
     },
     "execution_count": 424,
     "metadata": {},
     "output_type": "execute_result"
    }
   ],
   "source": [
    "y_test[20:30]"
   ]
  },
  {
   "cell_type": "code",
   "execution_count": 13,
   "id": "7d5e5d0b",
   "metadata": {},
   "outputs": [
    {
     "ename": "TypeError",
     "evalue": "'tuple' object is not callable",
     "output_type": "error",
     "traceback": [
      "\u001b[0;31m---------------------------------------------------------------------------\u001b[0m",
      "\u001b[0;31mTypeError\u001b[0m                                 Traceback (most recent call last)",
      "\u001b[0;32m<ipython-input-13-342da9e047d0>\u001b[0m in \u001b[0;36m<module>\u001b[0;34m\u001b[0m\n\u001b[0;32m----> 1\u001b[0;31m \u001b[0my_train\u001b[0m \u001b[0;34m=\u001b[0m \u001b[0my_train\u001b[0m\u001b[0;34m.\u001b[0m\u001b[0mshape\u001b[0m\u001b[0;34m(\u001b[0m\u001b[0;34m-\u001b[0m\u001b[0;36m1\u001b[0m\u001b[0;34m,\u001b[0m\u001b[0;34m)\u001b[0m\u001b[0;34m\u001b[0m\u001b[0;34m\u001b[0m\u001b[0m\n\u001b[0m",
      "\u001b[0;31mTypeError\u001b[0m: 'tuple' object is not callable"
     ]
    }
   ],
   "source": [
    "y_train = y_train.shape(-1,)"
   ]
  },
  {
   "cell_type": "code",
   "execution_count": 414,
   "id": "f33ea14c",
   "metadata": {},
   "outputs": [
    {
     "data": {
      "text/plain": [
       "array([126., 105.,  76., ..., 140., 133., 127.], dtype=float32)"
      ]
     },
     "execution_count": 414,
     "metadata": {},
     "output_type": "execute_result"
    }
   ],
   "source": [
    "def display_pic(x, y, idx):\n",
    "    plt.imshow(X[index])\n",
    "    plt.xlabel(classes[])"
   ]
  },
  {
   "cell_type": "code",
   "execution_count": null,
   "id": "806074bd",
   "metadata": {},
   "outputs": [],
   "source": []
  }
 ],
 "metadata": {
  "kernelspec": {
   "display_name": "Python [conda env:metis] *",
   "language": "python",
   "name": "conda-env-metis-py"
  },
  "language_info": {
   "codemirror_mode": {
    "name": "ipython",
    "version": 3
   },
   "file_extension": ".py",
   "mimetype": "text/x-python",
   "name": "python",
   "nbconvert_exporter": "python",
   "pygments_lexer": "ipython3",
   "version": "3.8.10"
  }
 },
 "nbformat": 4,
 "nbformat_minor": 5
}
